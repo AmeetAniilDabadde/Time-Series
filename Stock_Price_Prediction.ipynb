{
  "nbformat": 4,
  "nbformat_minor": 0,
  "metadata": {
    "colab": {
      "name": "Stock Price Prediction.ipynb",
      "provenance": [],
      "collapsed_sections": []
    },
    "kernelspec": {
      "name": "python3",
      "display_name": "Python 3"
    }
  },
  "cells": [
    {
      "cell_type": "code",
      "metadata": {
        "id": "6XZQZBxnIOeZ",
        "colab_type": "code",
        "colab": {}
      },
      "source": [
        "from matplotlib import pyplot as plt\n",
        "import pandas as pd\n",
        "import statsmodels.api as sm\n",
        "import datetime\n",
        "import numpy as np\n",
        "from statsmodels.tsa.arima_model import ARIMA\n",
        "from statsmodels.tsa.stattools  import adfuller\n",
        "from pandas.plotting import autocorrelation_plot  as ap\n",
        "from statsmodels.tsa.stattools import acf, pacf\n",
        "from statsmodels.graphics.tsaplots import plot_acf ,plot_pacf\n",
        "from statsmodels.tsa.seasonal import seasonal_decompose\n",
        "from sklearn.metrics import mean_squared_error as mse\n",
        "from pmdarima import auto_arima \n",
        "from pmdarima.arima import ADFTest\n",
        "from statsmodels.tsa.stattools import adfuller\n",
        "from statsmodels.graphics.tsaplots import plot_acf,plot_pacf\n",
        "from statsmodels.tsa.stattools import acf, pacf\n",
        "from statsmodels.tsa.holtwinters import Holt,SimpleExpSmoothing,ExponentialSmoothing,HoltWintersResults\n",
        "from sklearn.linear_model import LinearRegression,LogisticRegression\n",
        "from sklearn.ensemble import RandomForestRegressor\n",
        "from sklearn.svm import SVR\n",
        "from sklearn.model_selection import train_test_split,GridSearchCV,RandomizedSearchCV\n",
        "import statsmodels.api as sm\n",
        "from sklearn.metrics import cohen_kappa_score, make_scorer\n",
        "import warnings\n",
        "warnings.filterwarnings('ignore') \n",
        "from statsmodels.stats.outliers_influence import variance_inflation_factor \n",
        "import statsmodels.stats.diagnostic as dg\n",
        "from statsmodels.stats.stattools import durbin_watson \n",
        "from pyearth import Earth"
      ],
      "execution_count": null,
      "outputs": []
    },
    {
      "cell_type": "code",
      "metadata": {
        "id": "_Rq6Ij5z7GHM",
        "colab_type": "code",
        "colab": {
          "base_uri": "https://localhost:8080/",
          "height": 289
        },
        "outputId": "3b835a5c-6e96-41e2-ac8b-00fa2636d09f"
      },
      "source": [
        "#!pip install pmdarima\n",
        "#!pip install pycaret\n",
        "#!pip install sklearn-contrib-py-earth"
      ],
      "execution_count": null,
      "outputs": [
        {
          "output_type": "stream",
          "text": [
            "Collecting sklearn-contrib-py-earth\n",
            "\u001b[?25l  Downloading https://files.pythonhosted.org/packages/f8/c4/53a24835bafac880036446cc13839471a025b41de1436543f30d15d846c1/sklearn-contrib-py-earth-0.1.0.tar.gz (1.0MB)\n",
            "\r\u001b[K     |▎                               | 10kB 18.3MB/s eta 0:00:01\r\u001b[K     |▋                               | 20kB 1.8MB/s eta 0:00:01\r\u001b[K     |█                               | 30kB 2.2MB/s eta 0:00:01\r\u001b[K     |█▎                              | 40kB 2.4MB/s eta 0:00:01\r\u001b[K     |█▋                              | 51kB 2.0MB/s eta 0:00:01\r\u001b[K     |██                              | 61kB 2.3MB/s eta 0:00:01\r\u001b[K     |██▎                             | 71kB 2.4MB/s eta 0:00:01\r\u001b[K     |██▋                             | 81kB 2.7MB/s eta 0:00:01\r\u001b[K     |███                             | 92kB 2.8MB/s eta 0:00:01\r\u001b[K     |███▎                            | 102kB 2.8MB/s eta 0:00:01\r\u001b[K     |███▋                            | 112kB 2.8MB/s eta 0:00:01\r\u001b[K     |████                            | 122kB 2.8MB/s eta 0:00:01\r\u001b[K     |████▎                           | 133kB 2.8MB/s eta 0:00:01\r\u001b[K     |████▌                           | 143kB 2.8MB/s eta 0:00:01\r\u001b[K     |████▉                           | 153kB 2.8MB/s eta 0:00:01\r\u001b[K     |█████▏                          | 163kB 2.8MB/s eta 0:00:01\r\u001b[K     |█████▌                          | 174kB 2.8MB/s eta 0:00:01\r\u001b[K     |█████▉                          | 184kB 2.8MB/s eta 0:00:01\r\u001b[K     |██████▏                         | 194kB 2.8MB/s eta 0:00:01\r\u001b[K     |██████▌                         | 204kB 2.8MB/s eta 0:00:01\r\u001b[K     |██████▉                         | 215kB 2.8MB/s eta 0:00:01\r\u001b[K     |███████▏                        | 225kB 2.8MB/s eta 0:00:01\r\u001b[K     |███████▌                        | 235kB 2.8MB/s eta 0:00:01\r\u001b[K     |███████▉                        | 245kB 2.8MB/s eta 0:00:01\r\u001b[K     |████████▏                       | 256kB 2.8MB/s eta 0:00:01\r\u001b[K     |████████▌                       | 266kB 2.8MB/s eta 0:00:01\r\u001b[K     |████████▉                       | 276kB 2.8MB/s eta 0:00:01\r\u001b[K     |█████████                       | 286kB 2.8MB/s eta 0:00:01\r\u001b[K     |█████████▍                      | 296kB 2.8MB/s eta 0:00:01\r\u001b[K     |█████████▊                      | 307kB 2.8MB/s eta 0:00:01\r\u001b[K     |██████████                      | 317kB 2.8MB/s eta 0:00:01\r\u001b[K     |██████████▍                     | 327kB 2.8MB/s eta 0:00:01\r\u001b[K     |██████████▊                     | 337kB 2.8MB/s eta 0:00:01\r\u001b[K     |███████████                     | 348kB 2.8MB/s eta 0:00:01\r\u001b[K     |███████████▍                    | 358kB 2.8MB/s eta 0:00:01\r\u001b[K     |███████████▊                    | 368kB 2.8MB/s eta 0:00:01\r\u001b[K     |████████████                    | 378kB 2.8MB/s eta 0:00:01\r\u001b[K     |████████████▍                   | 389kB 2.8MB/s eta 0:00:01\r\u001b[K     |████████████▊                   | 399kB 2.8MB/s eta 0:00:01\r\u001b[K     |█████████████                   | 409kB 2.8MB/s eta 0:00:01\r\u001b[K     |█████████████▎                  | 419kB 2.8MB/s eta 0:00:01\r\u001b[K     |█████████████▋                  | 430kB 2.8MB/s eta 0:00:01\r\u001b[K     |██████████████                  | 440kB 2.8MB/s eta 0:00:01\r\u001b[K     |██████████████▎                 | 450kB 2.8MB/s eta 0:00:01\r\u001b[K     |██████████████▋                 | 460kB 2.8MB/s eta 0:00:01\r\u001b[K     |███████████████                 | 471kB 2.8MB/s eta 0:00:01\r\u001b[K     |███████████████▎                | 481kB 2.8MB/s eta 0:00:01\r\u001b[K     |███████████████▋                | 491kB 2.8MB/s eta 0:00:01\r\u001b[K     |████████████████                | 501kB 2.8MB/s eta 0:00:01\r\u001b[K     |████████████████▎               | 512kB 2.8MB/s eta 0:00:01\r\u001b[K     |████████████████▋               | 522kB 2.8MB/s eta 0:00:01\r\u001b[K     |█████████████████               | 532kB 2.8MB/s eta 0:00:01\r\u001b[K     |█████████████████▎              | 542kB 2.8MB/s eta 0:00:01\r\u001b[K     |█████████████████▋              | 552kB 2.8MB/s eta 0:00:01\r\u001b[K     |█████████████████▉              | 563kB 2.8MB/s eta 0:00:01\r\u001b[K     |██████████████████▏             | 573kB 2.8MB/s eta 0:00:01\r\u001b[K     |██████████████████▌             | 583kB 2.8MB/s eta 0:00:01\r\u001b[K     |██████████████████▉             | 593kB 2.8MB/s eta 0:00:01\r\u001b[K     |███████████████████▏            | 604kB 2.8MB/s eta 0:00:01\r\u001b[K     |███████████████████▌            | 614kB 2.8MB/s eta 0:00:01\r\u001b[K     |███████████████████▉            | 624kB 2.8MB/s eta 0:00:01\r\u001b[K     |████████████████████▏           | 634kB 2.8MB/s eta 0:00:01\r\u001b[K     |████████████████████▌           | 645kB 2.8MB/s eta 0:00:01\r\u001b[K     |████████████████████▉           | 655kB 2.8MB/s eta 0:00:01\r\u001b[K     |█████████████████████▏          | 665kB 2.8MB/s eta 0:00:01\r\u001b[K     |█████████████████████▌          | 675kB 2.8MB/s eta 0:00:01\r\u001b[K     |█████████████████████▉          | 686kB 2.8MB/s eta 0:00:01\r\u001b[K     |██████████████████████          | 696kB 2.8MB/s eta 0:00:01\r\u001b[K     |██████████████████████▍         | 706kB 2.8MB/s eta 0:00:01\r\u001b[K     |██████████████████████▊         | 716kB 2.8MB/s eta 0:00:01\r\u001b[K     |███████████████████████         | 727kB 2.8MB/s eta 0:00:01\r\u001b[K     |███████████████████████▍        | 737kB 2.8MB/s eta 0:00:01\r\u001b[K     |███████████████████████▊        | 747kB 2.8MB/s eta 0:00:01\r\u001b[K     |████████████████████████        | 757kB 2.8MB/s eta 0:00:01\r\u001b[K     |████████████████████████▍       | 768kB 2.8MB/s eta 0:00:01\r\u001b[K     |████████████████████████▊       | 778kB 2.8MB/s eta 0:00:01\r\u001b[K     |█████████████████████████       | 788kB 2.8MB/s eta 0:00:01\r\u001b[K     |█████████████████████████▍      | 798kB 2.8MB/s eta 0:00:01\r\u001b[K     |█████████████████████████▊      | 808kB 2.8MB/s eta 0:00:01\r\u001b[K     |██████████████████████████      | 819kB 2.8MB/s eta 0:00:01\r\u001b[K     |██████████████████████████▍     | 829kB 2.8MB/s eta 0:00:01\r\u001b[K     |██████████████████████████▋     | 839kB 2.8MB/s eta 0:00:01\r\u001b[K     |███████████████████████████     | 849kB 2.8MB/s eta 0:00:01\r\u001b[K     |███████████████████████████▎    | 860kB 2.8MB/s eta 0:00:01\r\u001b[K     |███████████████████████████▋    | 870kB 2.8MB/s eta 0:00:01\r\u001b[K     |████████████████████████████    | 880kB 2.8MB/s eta 0:00:01\r\u001b[K     |████████████████████████████▎   | 890kB 2.8MB/s eta 0:00:01\r\u001b[K     |████████████████████████████▋   | 901kB 2.8MB/s eta 0:00:01\r\u001b[K     |█████████████████████████████   | 911kB 2.8MB/s eta 0:00:01\r\u001b[K     |█████████████████████████████▎  | 921kB 2.8MB/s eta 0:00:01\r\u001b[K     |█████████████████████████████▋  | 931kB 2.8MB/s eta 0:00:01\r\u001b[K     |██████████████████████████████  | 942kB 2.8MB/s eta 0:00:01\r\u001b[K     |██████████████████████████████▎ | 952kB 2.8MB/s eta 0:00:01\r\u001b[K     |██████████████████████████████▋ | 962kB 2.8MB/s eta 0:00:01\r\u001b[K     |███████████████████████████████ | 972kB 2.8MB/s eta 0:00:01\r\u001b[K     |███████████████████████████████▏| 983kB 2.8MB/s eta 0:00:01\r\u001b[K     |███████████████████████████████▌| 993kB 2.8MB/s eta 0:00:01\r\u001b[K     |███████████████████████████████▉| 1.0MB 2.8MB/s eta 0:00:01\r\u001b[K     |████████████████████████████████| 1.0MB 2.8MB/s \n",
            "\u001b[?25hRequirement already satisfied: scipy>=0.16 in /usr/local/lib/python3.6/dist-packages (from sklearn-contrib-py-earth) (1.4.1)\n",
            "Requirement already satisfied: scikit-learn>=0.16 in /usr/local/lib/python3.6/dist-packages (from sklearn-contrib-py-earth) (0.22.2.post1)\n",
            "Requirement already satisfied: six in /usr/local/lib/python3.6/dist-packages (from sklearn-contrib-py-earth) (1.15.0)\n",
            "Requirement already satisfied: numpy>=1.13.3 in /usr/local/lib/python3.6/dist-packages (from scipy>=0.16->sklearn-contrib-py-earth) (1.18.5)\n",
            "Requirement already satisfied: joblib>=0.11 in /usr/local/lib/python3.6/dist-packages (from scikit-learn>=0.16->sklearn-contrib-py-earth) (0.16.0)\n",
            "Building wheels for collected packages: sklearn-contrib-py-earth\n",
            "  Building wheel for sklearn-contrib-py-earth (setup.py) ... \u001b[?25l\u001b[?25hdone\n",
            "  Created wheel for sklearn-contrib-py-earth: filename=sklearn_contrib_py_earth-0.1.0-cp36-cp36m-linux_x86_64.whl size=3894134 sha256=dff4f8b13ba294302b42be7491caa0dc5c3a783fbd9a1a02c244e122a441539b\n",
            "  Stored in directory: /root/.cache/pip/wheels/b7/8b/9c/4741513102ce3bd0f0227353dacdfbe9a5b0e47c261e45510b\n",
            "Successfully built sklearn-contrib-py-earth\n",
            "Installing collected packages: sklearn-contrib-py-earth\n",
            "Successfully installed sklearn-contrib-py-earth-0.1.0\n"
          ],
          "name": "stdout"
        }
      ]
    },
    {
      "cell_type": "code",
      "metadata": {
        "id": "nClkVniY1Q-H",
        "colab_type": "code",
        "colab": {}
      },
      "source": [
        "from google.colab import files"
      ],
      "execution_count": null,
      "outputs": []
    },
    {
      "cell_type": "code",
      "metadata": {
        "id": "5qGg1Guw1RIi",
        "colab_type": "code",
        "colab": {
          "resources": {
            "http://localhost:8080/nbextensions/google.colab/files.js": {
              "data": "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",
              "ok": true,
              "headers": [
                [
                  "content-type",
                  "application/javascript"
                ]
              ],
              "status": 200,
              "status_text": ""
            }
          },
          "base_uri": "https://localhost:8080/",
          "height": 110
        },
        "outputId": "cd04c884-d3e5-4a6b-da64-84dae1260355"
      },
      "source": [
        "files.upload()"
      ],
      "execution_count": null,
      "outputs": [
        {
          "output_type": "display_data",
          "data": {
            "text/html": [
              "\n",
              "     <input type=\"file\" id=\"files-28e93f86-800a-4d5f-a32b-2f67315a76c1\" name=\"files[]\" multiple disabled\n",
              "        style=\"border:none\" />\n",
              "     <output id=\"result-28e93f86-800a-4d5f-a32b-2f67315a76c1\">\n",
              "      Upload widget is only available when the cell has been executed in the\n",
              "      current browser session. Please rerun this cell to enable.\n",
              "      </output>\n",
              "      <script src=\"/nbextensions/google.colab/files.js\"></script> "
            ],
            "text/plain": [
              "<IPython.core.display.HTML object>"
            ]
          },
          "metadata": {
            "tags": []
          }
        },
        {
          "output_type": "stream",
          "text": [
            "Saving BAJFINANCE.NS.csv to BAJFINANCE.NS (1).csv\n"
          ],
          "name": "stdout"
        },
        {
          "output_type": "execute_result",
          "data": {
            "text/plain": [
              "{'BAJFINANCE.NS.csv': b'Date,Open,High,Low,Close,Adj Close,Volume\\n2015-01-01,348.394989,449.239990,339.220001,405.054993,373.992950,12293830\\n2015-02-01,409.899994,439.885010,396.500000,410.709991,379.214294,5212560\\n2015-03-01,439.049988,447.700012,390.114990,410.845001,379.338959,5849590\\n2015-04-01,415.799988,469.899994,391.350006,404.429993,373.415894,6898600\\n2015-05-01,404.429993,460.000000,391.959991,421.654999,389.319977,7366890\\n2015-06-01,428.000000,549.900024,417.000000,544.340027,502.596802,11982100\\n2015-07-01,545.000000,566.000000,495.119995,551.130005,508.866089,16887540\\n2015-08-01,552.489990,5065.000000,475.125000,4967.250000,4749.937500,15562263\\n2015-09-01,502.119995,527.400024,467.704987,513.125000,490.676300,16359020\\n2015-10-01,514.000000,5120.149902,491.299988,4998.000000,4779.342285,13813435\\n2015-11-01,523.299988,5599.000000,517.510010,5541.000000,5298.586426,7871534\\n2015-12-01,551.500000,604.000000,538.070007,600.994995,574.702087,7918490\\n2016-01-01,601.609985,6121.299805,534.905029,5928.399902,5669.038574,13046593\\n2016-02-01,606.700012,683.794983,560.099976,593.205017,567.252869,22821850\\n2016-03-01,596.020020,699.000000,596.020020,692.414978,662.122559,13478590\\n2016-04-01,693.900024,753.169983,679.520020,682.909973,671.708740,17355670\\n2016-05-01,687.400024,785.804993,675.000000,758.880005,746.432739,40055550\\n2016-06-01,752.799988,809.500000,741.640015,799.669983,786.553711,16796460\\n2016-07-01,805.000000,1047.839966,799.500000,1037.270020,1020.256592,39217770\\n2016-08-01,1046.000000,1177.000000,972.344971,1101.109985,1091.963013,37726750\\n2016-09-01,1103.050049,1183.900024,1011.200012,1055.900024,1047.128662,21281439\\n2016-10-01,1069.000000,1163.300049,1040.099976,1072.550049,1063.640381,15244096\\n2016-11-01,1087.000000,1089.949951,762.299988,919.799988,912.159180,74314576\\n2016-12-01,926.000000,929.900024,760.500000,843.599976,836.592224,38122229\\n2017-01-01,852.000000,1072.000000,842.000000,1036.900024,1028.286621,32850351\\n2017-02-01,1039.000000,1119.000000,1025.000000,1108.199951,1098.994019,18605006\\n2017-03-01,1120.000000,1206.000000,1019.099976,1171.099976,1161.371704,25076300\\n2017-04-01,1170.050049,1349.900024,1162.000000,1276.199951,1265.598633,16356866\\n2017-05-01,1276.199951,1374.000000,1190.550049,1326.949951,1315.926880,20159562\\n2017-06-01,1334.000000,1432.900024,1313.900024,1373.099976,1361.693726,13744922\\n2017-07-01,1380.000000,1739.800049,1366.500000,1703.099976,1688.952393,19705536\\n2017-08-01,1709.900024,1837.400024,1590.000000,1781.900024,1771.658203,26664535\\n2017-09-01,1790.000000,1985.900024,1759.000000,1838.050049,1827.485474,29731014\\n2017-10-01,1838.050049,1973.699951,1700.099976,1800.599976,1790.250732,21999769\\n2017-11-01,1809.599976,1848.000000,1707.050049,1727.050049,1717.123535,15335729\\n2017-12-01,1737.000000,1797.599976,1627.050049,1756.699951,1746.602905,17698787\\n2018-01-01,1759.500000,1843.000000,1632.599976,1677.849976,1668.206299,18618527\\n2018-02-01,1681.800049,1760.000000,1511.199951,1640.250000,1630.822388,21880198\\n2018-03-01,1635.000000,1798.000000,1594.199951,1767.550049,1757.390625,18473535\\n2018-04-01,1769.000000,1967.750000,1769.000000,1907.699951,1896.735107,19339331\\n2018-05-01,1907.699951,2177.899902,1818.000000,2109.899902,2097.772705,33733380\\n2018-06-01,2120.000000,2419.149902,2055.000000,2296.350098,2283.151367,30764557\\n2018-07-01,2300.000000,2797.000000,2281.100098,2697.899902,2682.393311,37330766\\n2018-08-01,2715.000000,2994.000000,2660.250000,2856.600098,2845.062500,24857552\\n2018-09-01,2880.000000,2880.000000,2117.000000,2168.000000,2159.243652,51911673\\n2018-10-01,2168.000000,2423.899902,1912.199951,2382.550049,2372.927002,97432802\\n2018-11-01,2391.449951,2564.399902,2233.100098,2537.699951,2527.450439,33838542\\n2018-12-01,2548.000000,2666.300049,2332.100098,2645.149902,2634.466553,32580120\\n2019-01-01,2645.000000,2664.000000,2355.000000,2574.850098,2564.450439,34741568\\n2019-02-01,2575.000000,2737.449951,2506.000000,2649.000000,2638.300781,25831809\\n2019-03-01,2663.300049,3034.949951,2640.000000,3025.000000,3012.782471,26344223\\n2019-04-01,3030.199951,3130.000000,2975.000000,3095.949951,3083.445557,19482418\\n2019-05-01,3095.949951,3531.000000,2848.100098,3467.100098,3453.096680,41239121\\n2019-06-01,3460.000000,3693.250000,3419.949951,3681.100098,3666.232422,19500106\\n2019-07-01,3688.699951,3762.000000,2994.000000,3252.050049,3238.915283,63811775\\n2019-08-01,3231.000000,3449.600098,2998.000000,3332.500000,3324.857910,42184628\\n2019-09-01,3332.500000,4111.750000,3208.000000,4046.050049,4036.771729,38442731\\n2019-10-01,4080.000000,4219.850098,3819.449951,4027.550049,4018.314209,33956478\\n2019-11-01,4029.000000,4280.000000,4021.000000,4074.199951,4064.857178,25321562\\n2019-12-01,4075.000000,4281.549805,3880.250000,4234.750000,4225.039063,24649100'}"
            ]
          },
          "metadata": {
            "tags": []
          },
          "execution_count": 7
        }
      ]
    },
    {
      "cell_type": "code",
      "metadata": {
        "id": "f8sv54zn1RMK",
        "colab_type": "code",
        "colab": {}
      },
      "source": [
        "dateparse = lambda dates: pd.datetime.strptime(dates, '%Y-%m-%d')\n",
        "stock_price=pd.read_csv('BAJFINANCE.NS.csv',parse_dates=['Date'], index_col='Date',date_parser=dateparse)"
      ],
      "execution_count": null,
      "outputs": []
    },
    {
      "cell_type": "code",
      "metadata": {
        "id": "e6-j8SOI1RVS",
        "colab_type": "code",
        "colab": {
          "base_uri": "https://localhost:8080/",
          "height": 1000
        },
        "outputId": "02131d5d-01c5-4ad5-db8c-2d07f5703fa0"
      },
      "source": [
        "stock_price"
      ],
      "execution_count": null,
      "outputs": [
        {
          "output_type": "execute_result",
          "data": {
            "text/html": [
              "<div>\n",
              "<style scoped>\n",
              "    .dataframe tbody tr th:only-of-type {\n",
              "        vertical-align: middle;\n",
              "    }\n",
              "\n",
              "    .dataframe tbody tr th {\n",
              "        vertical-align: top;\n",
              "    }\n",
              "\n",
              "    .dataframe thead th {\n",
              "        text-align: right;\n",
              "    }\n",
              "</style>\n",
              "<table border=\"1\" class=\"dataframe\">\n",
              "  <thead>\n",
              "    <tr style=\"text-align: right;\">\n",
              "      <th></th>\n",
              "      <th>Open</th>\n",
              "      <th>High</th>\n",
              "      <th>Low</th>\n",
              "      <th>Close</th>\n",
              "      <th>Adj Close</th>\n",
              "      <th>Volume</th>\n",
              "    </tr>\n",
              "    <tr>\n",
              "      <th>Date</th>\n",
              "      <th></th>\n",
              "      <th></th>\n",
              "      <th></th>\n",
              "      <th></th>\n",
              "      <th></th>\n",
              "      <th></th>\n",
              "    </tr>\n",
              "  </thead>\n",
              "  <tbody>\n",
              "    <tr>\n",
              "      <th>2015-01-01</th>\n",
              "      <td>348.394989</td>\n",
              "      <td>449.239990</td>\n",
              "      <td>339.220001</td>\n",
              "      <td>405.054993</td>\n",
              "      <td>373.992950</td>\n",
              "      <td>12293830</td>\n",
              "    </tr>\n",
              "    <tr>\n",
              "      <th>2015-02-01</th>\n",
              "      <td>409.899994</td>\n",
              "      <td>439.885010</td>\n",
              "      <td>396.500000</td>\n",
              "      <td>410.709991</td>\n",
              "      <td>379.214294</td>\n",
              "      <td>5212560</td>\n",
              "    </tr>\n",
              "    <tr>\n",
              "      <th>2015-03-01</th>\n",
              "      <td>439.049988</td>\n",
              "      <td>447.700012</td>\n",
              "      <td>390.114990</td>\n",
              "      <td>410.845001</td>\n",
              "      <td>379.338959</td>\n",
              "      <td>5849590</td>\n",
              "    </tr>\n",
              "    <tr>\n",
              "      <th>2015-04-01</th>\n",
              "      <td>415.799988</td>\n",
              "      <td>469.899994</td>\n",
              "      <td>391.350006</td>\n",
              "      <td>404.429993</td>\n",
              "      <td>373.415894</td>\n",
              "      <td>6898600</td>\n",
              "    </tr>\n",
              "    <tr>\n",
              "      <th>2015-05-01</th>\n",
              "      <td>404.429993</td>\n",
              "      <td>460.000000</td>\n",
              "      <td>391.959991</td>\n",
              "      <td>421.654999</td>\n",
              "      <td>389.319977</td>\n",
              "      <td>7366890</td>\n",
              "    </tr>\n",
              "    <tr>\n",
              "      <th>2015-06-01</th>\n",
              "      <td>428.000000</td>\n",
              "      <td>549.900024</td>\n",
              "      <td>417.000000</td>\n",
              "      <td>544.340027</td>\n",
              "      <td>502.596802</td>\n",
              "      <td>11982100</td>\n",
              "    </tr>\n",
              "    <tr>\n",
              "      <th>2015-07-01</th>\n",
              "      <td>545.000000</td>\n",
              "      <td>566.000000</td>\n",
              "      <td>495.119995</td>\n",
              "      <td>551.130005</td>\n",
              "      <td>508.866089</td>\n",
              "      <td>16887540</td>\n",
              "    </tr>\n",
              "    <tr>\n",
              "      <th>2015-08-01</th>\n",
              "      <td>552.489990</td>\n",
              "      <td>5065.000000</td>\n",
              "      <td>475.125000</td>\n",
              "      <td>4967.250000</td>\n",
              "      <td>4749.937500</td>\n",
              "      <td>15562263</td>\n",
              "    </tr>\n",
              "    <tr>\n",
              "      <th>2015-09-01</th>\n",
              "      <td>502.119995</td>\n",
              "      <td>527.400024</td>\n",
              "      <td>467.704987</td>\n",
              "      <td>513.125000</td>\n",
              "      <td>490.676300</td>\n",
              "      <td>16359020</td>\n",
              "    </tr>\n",
              "    <tr>\n",
              "      <th>2015-10-01</th>\n",
              "      <td>514.000000</td>\n",
              "      <td>5120.149902</td>\n",
              "      <td>491.299988</td>\n",
              "      <td>4998.000000</td>\n",
              "      <td>4779.342285</td>\n",
              "      <td>13813435</td>\n",
              "    </tr>\n",
              "    <tr>\n",
              "      <th>2015-11-01</th>\n",
              "      <td>523.299988</td>\n",
              "      <td>5599.000000</td>\n",
              "      <td>517.510010</td>\n",
              "      <td>5541.000000</td>\n",
              "      <td>5298.586426</td>\n",
              "      <td>7871534</td>\n",
              "    </tr>\n",
              "    <tr>\n",
              "      <th>2015-12-01</th>\n",
              "      <td>551.500000</td>\n",
              "      <td>604.000000</td>\n",
              "      <td>538.070007</td>\n",
              "      <td>600.994995</td>\n",
              "      <td>574.702087</td>\n",
              "      <td>7918490</td>\n",
              "    </tr>\n",
              "    <tr>\n",
              "      <th>2016-01-01</th>\n",
              "      <td>601.609985</td>\n",
              "      <td>6121.299805</td>\n",
              "      <td>534.905029</td>\n",
              "      <td>5928.399902</td>\n",
              "      <td>5669.038574</td>\n",
              "      <td>13046593</td>\n",
              "    </tr>\n",
              "    <tr>\n",
              "      <th>2016-02-01</th>\n",
              "      <td>606.700012</td>\n",
              "      <td>683.794983</td>\n",
              "      <td>560.099976</td>\n",
              "      <td>593.205017</td>\n",
              "      <td>567.252869</td>\n",
              "      <td>22821850</td>\n",
              "    </tr>\n",
              "    <tr>\n",
              "      <th>2016-03-01</th>\n",
              "      <td>596.020020</td>\n",
              "      <td>699.000000</td>\n",
              "      <td>596.020020</td>\n",
              "      <td>692.414978</td>\n",
              "      <td>662.122559</td>\n",
              "      <td>13478590</td>\n",
              "    </tr>\n",
              "    <tr>\n",
              "      <th>2016-04-01</th>\n",
              "      <td>693.900024</td>\n",
              "      <td>753.169983</td>\n",
              "      <td>679.520020</td>\n",
              "      <td>682.909973</td>\n",
              "      <td>671.708740</td>\n",
              "      <td>17355670</td>\n",
              "    </tr>\n",
              "    <tr>\n",
              "      <th>2016-05-01</th>\n",
              "      <td>687.400024</td>\n",
              "      <td>785.804993</td>\n",
              "      <td>675.000000</td>\n",
              "      <td>758.880005</td>\n",
              "      <td>746.432739</td>\n",
              "      <td>40055550</td>\n",
              "    </tr>\n",
              "    <tr>\n",
              "      <th>2016-06-01</th>\n",
              "      <td>752.799988</td>\n",
              "      <td>809.500000</td>\n",
              "      <td>741.640015</td>\n",
              "      <td>799.669983</td>\n",
              "      <td>786.553711</td>\n",
              "      <td>16796460</td>\n",
              "    </tr>\n",
              "    <tr>\n",
              "      <th>2016-07-01</th>\n",
              "      <td>805.000000</td>\n",
              "      <td>1047.839966</td>\n",
              "      <td>799.500000</td>\n",
              "      <td>1037.270020</td>\n",
              "      <td>1020.256592</td>\n",
              "      <td>39217770</td>\n",
              "    </tr>\n",
              "    <tr>\n",
              "      <th>2016-08-01</th>\n",
              "      <td>1046.000000</td>\n",
              "      <td>1177.000000</td>\n",
              "      <td>972.344971</td>\n",
              "      <td>1101.109985</td>\n",
              "      <td>1091.963013</td>\n",
              "      <td>37726750</td>\n",
              "    </tr>\n",
              "    <tr>\n",
              "      <th>2016-09-01</th>\n",
              "      <td>1103.050049</td>\n",
              "      <td>1183.900024</td>\n",
              "      <td>1011.200012</td>\n",
              "      <td>1055.900024</td>\n",
              "      <td>1047.128662</td>\n",
              "      <td>21281439</td>\n",
              "    </tr>\n",
              "    <tr>\n",
              "      <th>2016-10-01</th>\n",
              "      <td>1069.000000</td>\n",
              "      <td>1163.300049</td>\n",
              "      <td>1040.099976</td>\n",
              "      <td>1072.550049</td>\n",
              "      <td>1063.640381</td>\n",
              "      <td>15244096</td>\n",
              "    </tr>\n",
              "    <tr>\n",
              "      <th>2016-11-01</th>\n",
              "      <td>1087.000000</td>\n",
              "      <td>1089.949951</td>\n",
              "      <td>762.299988</td>\n",
              "      <td>919.799988</td>\n",
              "      <td>912.159180</td>\n",
              "      <td>74314576</td>\n",
              "    </tr>\n",
              "    <tr>\n",
              "      <th>2016-12-01</th>\n",
              "      <td>926.000000</td>\n",
              "      <td>929.900024</td>\n",
              "      <td>760.500000</td>\n",
              "      <td>843.599976</td>\n",
              "      <td>836.592224</td>\n",
              "      <td>38122229</td>\n",
              "    </tr>\n",
              "    <tr>\n",
              "      <th>2017-01-01</th>\n",
              "      <td>852.000000</td>\n",
              "      <td>1072.000000</td>\n",
              "      <td>842.000000</td>\n",
              "      <td>1036.900024</td>\n",
              "      <td>1028.286621</td>\n",
              "      <td>32850351</td>\n",
              "    </tr>\n",
              "    <tr>\n",
              "      <th>2017-02-01</th>\n",
              "      <td>1039.000000</td>\n",
              "      <td>1119.000000</td>\n",
              "      <td>1025.000000</td>\n",
              "      <td>1108.199951</td>\n",
              "      <td>1098.994019</td>\n",
              "      <td>18605006</td>\n",
              "    </tr>\n",
              "    <tr>\n",
              "      <th>2017-03-01</th>\n",
              "      <td>1120.000000</td>\n",
              "      <td>1206.000000</td>\n",
              "      <td>1019.099976</td>\n",
              "      <td>1171.099976</td>\n",
              "      <td>1161.371704</td>\n",
              "      <td>25076300</td>\n",
              "    </tr>\n",
              "    <tr>\n",
              "      <th>2017-04-01</th>\n",
              "      <td>1170.050049</td>\n",
              "      <td>1349.900024</td>\n",
              "      <td>1162.000000</td>\n",
              "      <td>1276.199951</td>\n",
              "      <td>1265.598633</td>\n",
              "      <td>16356866</td>\n",
              "    </tr>\n",
              "    <tr>\n",
              "      <th>2017-05-01</th>\n",
              "      <td>1276.199951</td>\n",
              "      <td>1374.000000</td>\n",
              "      <td>1190.550049</td>\n",
              "      <td>1326.949951</td>\n",
              "      <td>1315.926880</td>\n",
              "      <td>20159562</td>\n",
              "    </tr>\n",
              "    <tr>\n",
              "      <th>2017-06-01</th>\n",
              "      <td>1334.000000</td>\n",
              "      <td>1432.900024</td>\n",
              "      <td>1313.900024</td>\n",
              "      <td>1373.099976</td>\n",
              "      <td>1361.693726</td>\n",
              "      <td>13744922</td>\n",
              "    </tr>\n",
              "    <tr>\n",
              "      <th>2017-07-01</th>\n",
              "      <td>1380.000000</td>\n",
              "      <td>1739.800049</td>\n",
              "      <td>1366.500000</td>\n",
              "      <td>1703.099976</td>\n",
              "      <td>1688.952393</td>\n",
              "      <td>19705536</td>\n",
              "    </tr>\n",
              "    <tr>\n",
              "      <th>2017-08-01</th>\n",
              "      <td>1709.900024</td>\n",
              "      <td>1837.400024</td>\n",
              "      <td>1590.000000</td>\n",
              "      <td>1781.900024</td>\n",
              "      <td>1771.658203</td>\n",
              "      <td>26664535</td>\n",
              "    </tr>\n",
              "    <tr>\n",
              "      <th>2017-09-01</th>\n",
              "      <td>1790.000000</td>\n",
              "      <td>1985.900024</td>\n",
              "      <td>1759.000000</td>\n",
              "      <td>1838.050049</td>\n",
              "      <td>1827.485474</td>\n",
              "      <td>29731014</td>\n",
              "    </tr>\n",
              "    <tr>\n",
              "      <th>2017-10-01</th>\n",
              "      <td>1838.050049</td>\n",
              "      <td>1973.699951</td>\n",
              "      <td>1700.099976</td>\n",
              "      <td>1800.599976</td>\n",
              "      <td>1790.250732</td>\n",
              "      <td>21999769</td>\n",
              "    </tr>\n",
              "    <tr>\n",
              "      <th>2017-11-01</th>\n",
              "      <td>1809.599976</td>\n",
              "      <td>1848.000000</td>\n",
              "      <td>1707.050049</td>\n",
              "      <td>1727.050049</td>\n",
              "      <td>1717.123535</td>\n",
              "      <td>15335729</td>\n",
              "    </tr>\n",
              "    <tr>\n",
              "      <th>2017-12-01</th>\n",
              "      <td>1737.000000</td>\n",
              "      <td>1797.599976</td>\n",
              "      <td>1627.050049</td>\n",
              "      <td>1756.699951</td>\n",
              "      <td>1746.602905</td>\n",
              "      <td>17698787</td>\n",
              "    </tr>\n",
              "    <tr>\n",
              "      <th>2018-01-01</th>\n",
              "      <td>1759.500000</td>\n",
              "      <td>1843.000000</td>\n",
              "      <td>1632.599976</td>\n",
              "      <td>1677.849976</td>\n",
              "      <td>1668.206299</td>\n",
              "      <td>18618527</td>\n",
              "    </tr>\n",
              "    <tr>\n",
              "      <th>2018-02-01</th>\n",
              "      <td>1681.800049</td>\n",
              "      <td>1760.000000</td>\n",
              "      <td>1511.199951</td>\n",
              "      <td>1640.250000</td>\n",
              "      <td>1630.822388</td>\n",
              "      <td>21880198</td>\n",
              "    </tr>\n",
              "    <tr>\n",
              "      <th>2018-03-01</th>\n",
              "      <td>1635.000000</td>\n",
              "      <td>1798.000000</td>\n",
              "      <td>1594.199951</td>\n",
              "      <td>1767.550049</td>\n",
              "      <td>1757.390625</td>\n",
              "      <td>18473535</td>\n",
              "    </tr>\n",
              "    <tr>\n",
              "      <th>2018-04-01</th>\n",
              "      <td>1769.000000</td>\n",
              "      <td>1967.750000</td>\n",
              "      <td>1769.000000</td>\n",
              "      <td>1907.699951</td>\n",
              "      <td>1896.735107</td>\n",
              "      <td>19339331</td>\n",
              "    </tr>\n",
              "    <tr>\n",
              "      <th>2018-05-01</th>\n",
              "      <td>1907.699951</td>\n",
              "      <td>2177.899902</td>\n",
              "      <td>1818.000000</td>\n",
              "      <td>2109.899902</td>\n",
              "      <td>2097.772705</td>\n",
              "      <td>33733380</td>\n",
              "    </tr>\n",
              "    <tr>\n",
              "      <th>2018-06-01</th>\n",
              "      <td>2120.000000</td>\n",
              "      <td>2419.149902</td>\n",
              "      <td>2055.000000</td>\n",
              "      <td>2296.350098</td>\n",
              "      <td>2283.151367</td>\n",
              "      <td>30764557</td>\n",
              "    </tr>\n",
              "    <tr>\n",
              "      <th>2018-07-01</th>\n",
              "      <td>2300.000000</td>\n",
              "      <td>2797.000000</td>\n",
              "      <td>2281.100098</td>\n",
              "      <td>2697.899902</td>\n",
              "      <td>2682.393311</td>\n",
              "      <td>37330766</td>\n",
              "    </tr>\n",
              "    <tr>\n",
              "      <th>2018-08-01</th>\n",
              "      <td>2715.000000</td>\n",
              "      <td>2994.000000</td>\n",
              "      <td>2660.250000</td>\n",
              "      <td>2856.600098</td>\n",
              "      <td>2845.062500</td>\n",
              "      <td>24857552</td>\n",
              "    </tr>\n",
              "    <tr>\n",
              "      <th>2018-09-01</th>\n",
              "      <td>2880.000000</td>\n",
              "      <td>2880.000000</td>\n",
              "      <td>2117.000000</td>\n",
              "      <td>2168.000000</td>\n",
              "      <td>2159.243652</td>\n",
              "      <td>51911673</td>\n",
              "    </tr>\n",
              "    <tr>\n",
              "      <th>2018-10-01</th>\n",
              "      <td>2168.000000</td>\n",
              "      <td>2423.899902</td>\n",
              "      <td>1912.199951</td>\n",
              "      <td>2382.550049</td>\n",
              "      <td>2372.927002</td>\n",
              "      <td>97432802</td>\n",
              "    </tr>\n",
              "    <tr>\n",
              "      <th>2018-11-01</th>\n",
              "      <td>2391.449951</td>\n",
              "      <td>2564.399902</td>\n",
              "      <td>2233.100098</td>\n",
              "      <td>2537.699951</td>\n",
              "      <td>2527.450439</td>\n",
              "      <td>33838542</td>\n",
              "    </tr>\n",
              "    <tr>\n",
              "      <th>2018-12-01</th>\n",
              "      <td>2548.000000</td>\n",
              "      <td>2666.300049</td>\n",
              "      <td>2332.100098</td>\n",
              "      <td>2645.149902</td>\n",
              "      <td>2634.466553</td>\n",
              "      <td>32580120</td>\n",
              "    </tr>\n",
              "    <tr>\n",
              "      <th>2019-01-01</th>\n",
              "      <td>2645.000000</td>\n",
              "      <td>2664.000000</td>\n",
              "      <td>2355.000000</td>\n",
              "      <td>2574.850098</td>\n",
              "      <td>2564.450439</td>\n",
              "      <td>34741568</td>\n",
              "    </tr>\n",
              "    <tr>\n",
              "      <th>2019-02-01</th>\n",
              "      <td>2575.000000</td>\n",
              "      <td>2737.449951</td>\n",
              "      <td>2506.000000</td>\n",
              "      <td>2649.000000</td>\n",
              "      <td>2638.300781</td>\n",
              "      <td>25831809</td>\n",
              "    </tr>\n",
              "    <tr>\n",
              "      <th>2019-03-01</th>\n",
              "      <td>2663.300049</td>\n",
              "      <td>3034.949951</td>\n",
              "      <td>2640.000000</td>\n",
              "      <td>3025.000000</td>\n",
              "      <td>3012.782471</td>\n",
              "      <td>26344223</td>\n",
              "    </tr>\n",
              "    <tr>\n",
              "      <th>2019-04-01</th>\n",
              "      <td>3030.199951</td>\n",
              "      <td>3130.000000</td>\n",
              "      <td>2975.000000</td>\n",
              "      <td>3095.949951</td>\n",
              "      <td>3083.445557</td>\n",
              "      <td>19482418</td>\n",
              "    </tr>\n",
              "    <tr>\n",
              "      <th>2019-05-01</th>\n",
              "      <td>3095.949951</td>\n",
              "      <td>3531.000000</td>\n",
              "      <td>2848.100098</td>\n",
              "      <td>3467.100098</td>\n",
              "      <td>3453.096680</td>\n",
              "      <td>41239121</td>\n",
              "    </tr>\n",
              "    <tr>\n",
              "      <th>2019-06-01</th>\n",
              "      <td>3460.000000</td>\n",
              "      <td>3693.250000</td>\n",
              "      <td>3419.949951</td>\n",
              "      <td>3681.100098</td>\n",
              "      <td>3666.232422</td>\n",
              "      <td>19500106</td>\n",
              "    </tr>\n",
              "    <tr>\n",
              "      <th>2019-07-01</th>\n",
              "      <td>3688.699951</td>\n",
              "      <td>3762.000000</td>\n",
              "      <td>2994.000000</td>\n",
              "      <td>3252.050049</td>\n",
              "      <td>3238.915283</td>\n",
              "      <td>63811775</td>\n",
              "    </tr>\n",
              "    <tr>\n",
              "      <th>2019-08-01</th>\n",
              "      <td>3231.000000</td>\n",
              "      <td>3449.600098</td>\n",
              "      <td>2998.000000</td>\n",
              "      <td>3332.500000</td>\n",
              "      <td>3324.857910</td>\n",
              "      <td>42184628</td>\n",
              "    </tr>\n",
              "    <tr>\n",
              "      <th>2019-09-01</th>\n",
              "      <td>3332.500000</td>\n",
              "      <td>4111.750000</td>\n",
              "      <td>3208.000000</td>\n",
              "      <td>4046.050049</td>\n",
              "      <td>4036.771729</td>\n",
              "      <td>38442731</td>\n",
              "    </tr>\n",
              "    <tr>\n",
              "      <th>2019-10-01</th>\n",
              "      <td>4080.000000</td>\n",
              "      <td>4219.850098</td>\n",
              "      <td>3819.449951</td>\n",
              "      <td>4027.550049</td>\n",
              "      <td>4018.314209</td>\n",
              "      <td>33956478</td>\n",
              "    </tr>\n",
              "    <tr>\n",
              "      <th>2019-11-01</th>\n",
              "      <td>4029.000000</td>\n",
              "      <td>4280.000000</td>\n",
              "      <td>4021.000000</td>\n",
              "      <td>4074.199951</td>\n",
              "      <td>4064.857178</td>\n",
              "      <td>25321562</td>\n",
              "    </tr>\n",
              "    <tr>\n",
              "      <th>2019-12-01</th>\n",
              "      <td>4075.000000</td>\n",
              "      <td>4281.549805</td>\n",
              "      <td>3880.250000</td>\n",
              "      <td>4234.750000</td>\n",
              "      <td>4225.039063</td>\n",
              "      <td>24649100</td>\n",
              "    </tr>\n",
              "  </tbody>\n",
              "</table>\n",
              "</div>"
            ],
            "text/plain": [
              "                   Open         High  ...    Adj Close    Volume\n",
              "Date                                  ...                       \n",
              "2015-01-01   348.394989   449.239990  ...   373.992950  12293830\n",
              "2015-02-01   409.899994   439.885010  ...   379.214294   5212560\n",
              "2015-03-01   439.049988   447.700012  ...   379.338959   5849590\n",
              "2015-04-01   415.799988   469.899994  ...   373.415894   6898600\n",
              "2015-05-01   404.429993   460.000000  ...   389.319977   7366890\n",
              "2015-06-01   428.000000   549.900024  ...   502.596802  11982100\n",
              "2015-07-01   545.000000   566.000000  ...   508.866089  16887540\n",
              "2015-08-01   552.489990  5065.000000  ...  4749.937500  15562263\n",
              "2015-09-01   502.119995   527.400024  ...   490.676300  16359020\n",
              "2015-10-01   514.000000  5120.149902  ...  4779.342285  13813435\n",
              "2015-11-01   523.299988  5599.000000  ...  5298.586426   7871534\n",
              "2015-12-01   551.500000   604.000000  ...   574.702087   7918490\n",
              "2016-01-01   601.609985  6121.299805  ...  5669.038574  13046593\n",
              "2016-02-01   606.700012   683.794983  ...   567.252869  22821850\n",
              "2016-03-01   596.020020   699.000000  ...   662.122559  13478590\n",
              "2016-04-01   693.900024   753.169983  ...   671.708740  17355670\n",
              "2016-05-01   687.400024   785.804993  ...   746.432739  40055550\n",
              "2016-06-01   752.799988   809.500000  ...   786.553711  16796460\n",
              "2016-07-01   805.000000  1047.839966  ...  1020.256592  39217770\n",
              "2016-08-01  1046.000000  1177.000000  ...  1091.963013  37726750\n",
              "2016-09-01  1103.050049  1183.900024  ...  1047.128662  21281439\n",
              "2016-10-01  1069.000000  1163.300049  ...  1063.640381  15244096\n",
              "2016-11-01  1087.000000  1089.949951  ...   912.159180  74314576\n",
              "2016-12-01   926.000000   929.900024  ...   836.592224  38122229\n",
              "2017-01-01   852.000000  1072.000000  ...  1028.286621  32850351\n",
              "2017-02-01  1039.000000  1119.000000  ...  1098.994019  18605006\n",
              "2017-03-01  1120.000000  1206.000000  ...  1161.371704  25076300\n",
              "2017-04-01  1170.050049  1349.900024  ...  1265.598633  16356866\n",
              "2017-05-01  1276.199951  1374.000000  ...  1315.926880  20159562\n",
              "2017-06-01  1334.000000  1432.900024  ...  1361.693726  13744922\n",
              "2017-07-01  1380.000000  1739.800049  ...  1688.952393  19705536\n",
              "2017-08-01  1709.900024  1837.400024  ...  1771.658203  26664535\n",
              "2017-09-01  1790.000000  1985.900024  ...  1827.485474  29731014\n",
              "2017-10-01  1838.050049  1973.699951  ...  1790.250732  21999769\n",
              "2017-11-01  1809.599976  1848.000000  ...  1717.123535  15335729\n",
              "2017-12-01  1737.000000  1797.599976  ...  1746.602905  17698787\n",
              "2018-01-01  1759.500000  1843.000000  ...  1668.206299  18618527\n",
              "2018-02-01  1681.800049  1760.000000  ...  1630.822388  21880198\n",
              "2018-03-01  1635.000000  1798.000000  ...  1757.390625  18473535\n",
              "2018-04-01  1769.000000  1967.750000  ...  1896.735107  19339331\n",
              "2018-05-01  1907.699951  2177.899902  ...  2097.772705  33733380\n",
              "2018-06-01  2120.000000  2419.149902  ...  2283.151367  30764557\n",
              "2018-07-01  2300.000000  2797.000000  ...  2682.393311  37330766\n",
              "2018-08-01  2715.000000  2994.000000  ...  2845.062500  24857552\n",
              "2018-09-01  2880.000000  2880.000000  ...  2159.243652  51911673\n",
              "2018-10-01  2168.000000  2423.899902  ...  2372.927002  97432802\n",
              "2018-11-01  2391.449951  2564.399902  ...  2527.450439  33838542\n",
              "2018-12-01  2548.000000  2666.300049  ...  2634.466553  32580120\n",
              "2019-01-01  2645.000000  2664.000000  ...  2564.450439  34741568\n",
              "2019-02-01  2575.000000  2737.449951  ...  2638.300781  25831809\n",
              "2019-03-01  2663.300049  3034.949951  ...  3012.782471  26344223\n",
              "2019-04-01  3030.199951  3130.000000  ...  3083.445557  19482418\n",
              "2019-05-01  3095.949951  3531.000000  ...  3453.096680  41239121\n",
              "2019-06-01  3460.000000  3693.250000  ...  3666.232422  19500106\n",
              "2019-07-01  3688.699951  3762.000000  ...  3238.915283  63811775\n",
              "2019-08-01  3231.000000  3449.600098  ...  3324.857910  42184628\n",
              "2019-09-01  3332.500000  4111.750000  ...  4036.771729  38442731\n",
              "2019-10-01  4080.000000  4219.850098  ...  4018.314209  33956478\n",
              "2019-11-01  4029.000000  4280.000000  ...  4064.857178  25321562\n",
              "2019-12-01  4075.000000  4281.549805  ...  4225.039063  24649100\n",
              "\n",
              "[60 rows x 6 columns]"
            ]
          },
          "metadata": {
            "tags": []
          },
          "execution_count": 190
        }
      ]
    },
    {
      "cell_type": "code",
      "metadata": {
        "id": "566XbtpPab6d",
        "colab_type": "code",
        "colab": {}
      },
      "source": [
        "stock_price_copy=stock_price.copy()"
      ],
      "execution_count": null,
      "outputs": []
    },
    {
      "cell_type": "code",
      "metadata": {
        "id": "P8kYATVs16Kd",
        "colab_type": "code",
        "colab": {
          "base_uri": "https://localhost:8080/",
          "height": 235
        },
        "outputId": "cfdcfe28-d290-4999-d56a-e219535dd480"
      },
      "source": [
        "stock_price.info()"
      ],
      "execution_count": null,
      "outputs": [
        {
          "output_type": "stream",
          "text": [
            "<class 'pandas.core.frame.DataFrame'>\n",
            "DatetimeIndex: 60 entries, 2015-01-01 to 2019-12-01\n",
            "Data columns (total 6 columns):\n",
            " #   Column     Non-Null Count  Dtype  \n",
            "---  ------     --------------  -----  \n",
            " 0   Open       60 non-null     float64\n",
            " 1   High       60 non-null     float64\n",
            " 2   Low        60 non-null     float64\n",
            " 3   Close      60 non-null     float64\n",
            " 4   Adj Close  60 non-null     float64\n",
            " 5   Volume     60 non-null     int64  \n",
            "dtypes: float64(5), int64(1)\n",
            "memory usage: 3.3 KB\n"
          ],
          "name": "stdout"
        }
      ]
    },
    {
      "cell_type": "code",
      "metadata": {
        "id": "GzTFsnIhG40o",
        "colab_type": "code",
        "colab": {
          "base_uri": "https://localhost:8080/",
          "height": 1000
        },
        "outputId": "0963b626-1a5e-4d9c-d6ec-383f0ef07587"
      },
      "source": [
        "# Multiplicative Decomposition \n",
        "result_mul = seasonal_decompose(stock_price['Close'], model='multiplicative', extrapolate_trend='freq')\n",
        "\n",
        "# Additive Decomposition\n",
        "result_add = seasonal_decompose(stock_price['Close'], model='additive', extrapolate_trend='freq')\n",
        "\n",
        "# Plot\n",
        "plt.rcParams.update({'figure.figsize': (10,10)})\n",
        "result_mul.plot().suptitle('Multiplicative Decompose', fontsize=22)\n",
        "result_add.plot().suptitle('Additive Decompose', fontsize=22)\n",
        "plt.show()"
      ],
      "execution_count": null,
      "outputs": [
        {
          "output_type": "display_data",
          "data": {
            "image/png": "[encoded data removed]",
            "text/plain": [
              "<Figure size 720x720 with 4 Axes>"
            ]
          },
          "metadata": {
            "tags": [],
            "needs_background": "light"
          }
        },
        {
          "output_type": "display_data",
          "data": {
            "image/png": "[encoded data removed]",
            "text/plain": [
              "<Figure size 720x720 with 4 Axes>"
            ]
          },
          "metadata": {
            "tags": [],
            "needs_background": "light"
          }
        }
      ]
    },
    {
      "cell_type": "code",
      "metadata": {
        "id": "tPWb3grNERlU",
        "colab_type": "code",
        "colab": {
          "base_uri": "https://localhost:8080/",
          "height": 34
        },
        "outputId": "657bdfb3-9787-4009-bf29-1f6dc51bee6d"
      },
      "source": [
        "adf_test=ADFTest(alpha=0.05)\n",
        "adf_test.should_diff(stock_price['Close'])"
      ],
      "execution_count": null,
      "outputs": [
        {
          "output_type": "execute_result",
          "data": {
            "text/plain": [
              "(0.2675440169058573, True)"
            ]
          },
          "metadata": {
            "tags": []
          },
          "execution_count": 194
        }
      ]
    },
    {
      "cell_type": "markdown",
      "metadata": {
        "id": "BpYiHPdfMbfI",
        "colab_type": "text"
      },
      "source": [
        "Testing for stationarity\n"
      ]
    },
    {
      "cell_type": "code",
      "metadata": {
        "id": "gZhbaIaWL4qk",
        "colab_type": "code",
        "colab": {
          "base_uri": "https://localhost:8080/",
          "height": 118
        },
        "outputId": "80d6459f-4b9e-461e-945e-56fd8af757ae"
      },
      "source": [
        "X = stock_price['Open']\n",
        "result = adfuller(X)\n",
        "print('ADF Statistic: %f' % result[0])\n",
        "print('p-value: %f' % result[1])\n",
        "print('Critical Values:')\n",
        "for key, value in result[4].items():\n",
        "\tprint('\\t%s: %.3f' % (key, value))\n",
        " #pvalues indicate ts is not stationarity ,time series is required to me made stationary"
      ],
      "execution_count": null,
      "outputs": [
        {
          "output_type": "stream",
          "text": [
            "ADF Statistic: 4.472652\n",
            "p-value: 1.000000\n",
            "Critical Values:\n",
            "\t1%: -3.568\n",
            "\t5%: -2.921\n",
            "\t10%: -2.599\n"
          ],
          "name": "stdout"
        }
      ]
    },
    {
      "cell_type": "code",
      "metadata": {
        "id": "WAC4krsqzmri",
        "colab_type": "code",
        "colab": {}
      },
      "source": [
        "#first order differencing\n",
        "X=X.diff(1)"
      ],
      "execution_count": null,
      "outputs": []
    },
    {
      "cell_type": "code",
      "metadata": {
        "id": "3hQMG0NHzy40",
        "colab_type": "code",
        "colab": {
          "base_uri": "https://localhost:8080/",
          "height": 1000
        },
        "outputId": "62e179a1-371e-4f4c-eb22-c074787720a4"
      },
      "source": [
        "X.dropna(inplace=True)\n",
        "print(X)"
      ],
      "execution_count": null,
      "outputs": [
        {
          "output_type": "stream",
          "text": [
            "Date\n",
            "2015-02-01     61.505005\n",
            "2015-03-01     29.149994\n",
            "2015-04-01    -23.250000\n",
            "2015-05-01    -11.369995\n",
            "2015-06-01     23.570007\n",
            "2015-07-01    117.000000\n",
            "2015-08-01      7.489990\n",
            "2015-09-01    -50.369995\n",
            "2015-10-01     11.880005\n",
            "2015-11-01      9.299988\n",
            "2015-12-01     28.200012\n",
            "2016-01-01     50.109985\n",
            "2016-02-01      5.090027\n",
            "2016-03-01    -10.679992\n",
            "2016-04-01     97.880004\n",
            "2016-05-01     -6.500000\n",
            "2016-06-01     65.399964\n",
            "2016-07-01     52.200012\n",
            "2016-08-01    241.000000\n",
            "2016-09-01     57.050049\n",
            "2016-10-01    -34.050049\n",
            "2016-11-01     18.000000\n",
            "2016-12-01   -161.000000\n",
            "2017-01-01    -74.000000\n",
            "2017-02-01    187.000000\n",
            "2017-03-01     81.000000\n",
            "2017-04-01     50.050049\n",
            "2017-05-01    106.149902\n",
            "2017-06-01     57.800049\n",
            "2017-07-01     46.000000\n",
            "2017-08-01    329.900024\n",
            "2017-09-01     80.099976\n",
            "2017-10-01     48.050049\n",
            "2017-11-01    -28.450073\n",
            "2017-12-01    -72.599976\n",
            "2018-01-01     22.500000\n",
            "2018-02-01    -77.699951\n",
            "2018-03-01    -46.800049\n",
            "2018-04-01    134.000000\n",
            "2018-05-01    138.699951\n",
            "2018-06-01    212.300049\n",
            "2018-07-01    180.000000\n",
            "2018-08-01    415.000000\n",
            "2018-09-01    165.000000\n",
            "2018-10-01   -712.000000\n",
            "2018-11-01    223.449951\n",
            "2018-12-01    156.550049\n",
            "2019-01-01     97.000000\n",
            "2019-02-01    -70.000000\n",
            "2019-03-01     88.300049\n",
            "2019-04-01    366.899902\n",
            "2019-05-01     65.750000\n",
            "2019-06-01    364.050049\n",
            "2019-07-01    228.699951\n",
            "2019-08-01   -457.699951\n",
            "2019-09-01    101.500000\n",
            "2019-10-01    747.500000\n",
            "2019-11-01    -51.000000\n",
            "2019-12-01     46.000000\n",
            "Name: Open, dtype: float64\n"
          ],
          "name": "stdout"
        }
      ]
    },
    {
      "cell_type": "code",
      "metadata": {
        "id": "qH7cjv4xzq49",
        "colab_type": "code",
        "colab": {
          "base_uri": "https://localhost:8080/",
          "height": 118
        },
        "outputId": "8b1e6054-b408-4cce-9f41-ae6c3ad8df79"
      },
      "source": [
        "result = adfuller(X)\n",
        "print('ADF Statistic: %f' % result[0])\n",
        "print('p-value: %f' % result[1])\n",
        "print('Critical Values:')\n",
        "for key, value in result[4].items():\n",
        "\tprint('\\t%s: %.3f' % (key, value))\n",
        " #this time pvalues indicate that the time series Stationary."
      ],
      "execution_count": null,
      "outputs": [
        {
          "output_type": "stream",
          "text": [
            "ADF Statistic: -7.604451\n",
            "p-value: 0.000000\n",
            "Critical Values:\n",
            "\t1%: -3.551\n",
            "\t5%: -2.914\n",
            "\t10%: -2.595\n"
          ],
          "name": "stdout"
        }
      ]
    },
    {
      "cell_type": "code",
      "metadata": {
        "id": "7gYinCTAMiAs",
        "colab_type": "code",
        "colab": {
          "base_uri": "https://localhost:8080/",
          "height": 286
        },
        "outputId": "e750eb5f-a4c7-4908-d8ba-80ada70801af"
      },
      "source": [
        "train=X[:47]\n",
        "test=X[47:61]\n",
        "print(len(train))\n",
        "print(len(test))\n",
        "print(test)"
      ],
      "execution_count": null,
      "outputs": [
        {
          "output_type": "stream",
          "text": [
            "47\n",
            "12\n",
            "Date\n",
            "2019-01-01     97.000000\n",
            "2019-02-01    -70.000000\n",
            "2019-03-01     88.300049\n",
            "2019-04-01    366.899902\n",
            "2019-05-01     65.750000\n",
            "2019-06-01    364.050049\n",
            "2019-07-01    228.699951\n",
            "2019-08-01   -457.699951\n",
            "2019-09-01    101.500000\n",
            "2019-10-01    747.500000\n",
            "2019-11-01    -51.000000\n",
            "2019-12-01     46.000000\n",
            "Name: Open, dtype: float64\n"
          ],
          "name": "stdout"
        }
      ]
    },
    {
      "cell_type": "code",
      "metadata": {
        "id": "wBVDWiT4Pw6x",
        "colab_type": "code",
        "colab": {
          "base_uri": "https://localhost:8080/",
          "height": 609
        },
        "outputId": "584aba35-24e5-4de8-f4cb-5178a56696ba"
      },
      "source": [
        "plt.plot(train)\n",
        "plt.plot(test)"
      ],
      "execution_count": null,
      "outputs": [
        {
          "output_type": "execute_result",
          "data": {
            "text/plain": [
              "[<matplotlib.lines.Line2D at 0x7fa4711d9400>]"
            ]
          },
          "metadata": {
            "tags": []
          },
          "execution_count": 202
        },
        {
          "output_type": "display_data",
          "data": {
            "image/png": "[encoded data removed]",
            "text/plain": [
              "<Figure size 720x720 with 1 Axes>"
            ]
          },
          "metadata": {
            "tags": [],
            "needs_background": "light"
          }
        }
      ]
    },
    {
      "cell_type": "markdown",
      "metadata": {
        "id": "3FcW8DcTOBXS",
        "colab_type": "text"
      },
      "source": [
        "Fitting an auto Arima model\n"
      ]
    },
    {
      "cell_type": "code",
      "metadata": {
        "id": "BB-9bTr4QPhq",
        "colab_type": "code",
        "colab": {}
      },
      "source": [
        "arima_model =  auto_arima(train)"
      ],
      "execution_count": null,
      "outputs": []
    },
    {
      "cell_type": "code",
      "metadata": {
        "id": "CNHOnoGoSMNt",
        "colab_type": "code",
        "colab": {
          "base_uri": "https://localhost:8080/",
          "height": 84
        },
        "outputId": "057dbabf-ff51-41cc-e7a1-129484e10cb7"
      },
      "source": [
        "arima_model\n",
        "#It indicates that model is a white noise."
      ],
      "execution_count": null,
      "outputs": [
        {
          "output_type": "execute_result",
          "data": {
            "text/plain": [
              "ARIMA(maxiter=50, method='lbfgs', order=(0, 0, 0), out_of_sample_size=0,\n",
              "      scoring='mse', scoring_args={}, seasonal_order=(0, 0, 0, 0),\n",
              "      start_params=None, suppress_warnings=False, trend=None,\n",
              "      with_intercept=True)"
            ]
          },
          "metadata": {
            "tags": []
          },
          "execution_count": 204
        }
      ]
    },
    {
      "cell_type": "markdown",
      "metadata": {
        "id": "HyyQvf4dQCuZ",
        "colab_type": "text"
      },
      "source": [
        "Summary of Arima Model\n"
      ]
    },
    {
      "cell_type": "code",
      "metadata": {
        "id": "ddU4bPE2SQm3",
        "colab_type": "code",
        "colab": {
          "base_uri": "https://localhost:8080/",
          "height": 386
        },
        "outputId": "49e2e258-1015-4ec2-b5ac-5b7e1a40ce4b"
      },
      "source": [
        "arima_model.summary()"
      ],
      "execution_count": null,
      "outputs": [
        {
          "output_type": "execute_result",
          "data": {
            "text/html": [
              "<table class=\"simpletable\">\n",
              "<caption>SARIMAX Results</caption>\n",
              "<tr>\n",
              "  <th>Dep. Variable:</th>           <td>y</td>        <th>  No. Observations:  </th>    <td>47</td>   \n",
              "</tr>\n",
              "<tr>\n",
              "  <th>Model:</th>                <td>SARIMAX</td>     <th>  Log Likelihood     </th> <td>-303.588</td>\n",
              "</tr>\n",
              "<tr>\n",
              "  <th>Date:</th>            <td>Fri, 18 Sep 2020</td> <th>  AIC                </th>  <td>611.177</td>\n",
              "</tr>\n",
              "<tr>\n",
              "  <th>Time:</th>                <td>12:45:27</td>     <th>  BIC                </th>  <td>614.877</td>\n",
              "</tr>\n",
              "<tr>\n",
              "  <th>Sample:</th>                  <td>0</td>        <th>  HQIC               </th>  <td>612.569</td>\n",
              "</tr>\n",
              "<tr>\n",
              "  <th></th>                       <td> - 47</td>      <th>                     </th>     <td> </td>   \n",
              "</tr>\n",
              "<tr>\n",
              "  <th>Covariance Type:</th>        <td>opg</td>       <th>                     </th>     <td> </td>   \n",
              "</tr>\n",
              "</table>\n",
              "<table class=\"simpletable\">\n",
              "<tr>\n",
              "      <td></td>         <th>coef</th>     <th>std err</th>      <th>z</th>      <th>P>|z|</th>  <th>[0.025</th>    <th>0.975]</th>  \n",
              "</tr>\n",
              "<tr>\n",
              "  <th>intercept</th> <td>   46.8001</td> <td>   27.604</td> <td>    1.695</td> <td> 0.090</td> <td>   -7.302</td> <td>  100.902</td>\n",
              "</tr>\n",
              "<tr>\n",
              "  <th>sigma2</th>    <td> 2.388e+04</td> <td> 2406.897</td> <td>    9.921</td> <td> 0.000</td> <td> 1.92e+04</td> <td> 2.86e+04</td>\n",
              "</tr>\n",
              "</table>\n",
              "<table class=\"simpletable\">\n",
              "<tr>\n",
              "  <th>Ljung-Box (Q):</th>          <td>20.67</td> <th>  Jarque-Bera (JB):  </th> <td>251.31</td>\n",
              "</tr>\n",
              "<tr>\n",
              "  <th>Prob(Q):</th>                <td>1.00</td>  <th>  Prob(JB):          </th>  <td>0.00</td> \n",
              "</tr>\n",
              "<tr>\n",
              "  <th>Heteroskedasticity (H):</th> <td>22.60</td> <th>  Skew:              </th>  <td>-2.05</td>\n",
              "</tr>\n",
              "<tr>\n",
              "  <th>Prob(H) (two-sided):</th>    <td>0.00</td>  <th>  Kurtosis:          </th>  <td>13.56</td>\n",
              "</tr>\n",
              "</table><br/><br/>Warnings:<br/>[1] Covariance matrix calculated using the outer product of gradients (complex-step)."
            ],
            "text/plain": [
              "<class 'statsmodels.iolib.summary.Summary'>\n",
              "\"\"\"\n",
              "                               SARIMAX Results                                \n",
              "==============================================================================\n",
              "Dep. Variable:                      y   No. Observations:                   47\n",
              "Model:                        SARIMAX   Log Likelihood                -303.588\n",
              "Date:                Fri, 18 Sep 2020   AIC                            611.177\n",
              "Time:                        12:45:27   BIC                            614.877\n",
              "Sample:                             0   HQIC                           612.569\n",
              "                                 - 47                                         \n",
              "Covariance Type:                  opg                                         \n",
              "==============================================================================\n",
              "                 coef    std err          z      P>|z|      [0.025      0.975]\n",
              "------------------------------------------------------------------------------\n",
              "intercept     46.8001     27.604      1.695      0.090      -7.302     100.902\n",
              "sigma2      2.388e+04   2406.897      9.921      0.000    1.92e+04    2.86e+04\n",
              "===================================================================================\n",
              "Ljung-Box (Q):                       20.67   Jarque-Bera (JB):               251.31\n",
              "Prob(Q):                              1.00   Prob(JB):                         0.00\n",
              "Heteroskedasticity (H):              22.60   Skew:                            -2.05\n",
              "Prob(H) (two-sided):                  0.00   Kurtosis:                        13.56\n",
              "===================================================================================\n",
              "\n",
              "Warnings:\n",
              "[1] Covariance matrix calculated using the outer product of gradients (complex-step).\n",
              "\"\"\""
            ]
          },
          "metadata": {
            "tags": []
          },
          "execution_count": 205
        }
      ]
    },
    {
      "cell_type": "code",
      "metadata": {
        "id": "o1MG_FHkgIZQ",
        "colab_type": "code",
        "colab": {
          "base_uri": "https://localhost:8080/",
          "height": 609
        },
        "outputId": "16a5a813-4580-4f49-95e6-eebfe9b4d316"
      },
      "source": [
        "plt.plot(X)"
      ],
      "execution_count": null,
      "outputs": [
        {
          "output_type": "execute_result",
          "data": {
            "text/plain": [
              "[<matplotlib.lines.Line2D at 0x7fa4667c5898>]"
            ]
          },
          "metadata": {
            "tags": []
          },
          "execution_count": 206
        },
        {
          "output_type": "display_data",
          "data": {
            "image/png": "[encoded data removed]",
            "text/plain": [
              "<Figure size 720x720 with 1 Axes>"
            ]
          },
          "metadata": {
            "tags": [],
            "needs_background": "light"
          }
        }
      ]
    },
    {
      "cell_type": "code",
      "metadata": {
        "id": "E7_kmtl0XUTU",
        "colab_type": "code",
        "colab": {
          "base_uri": "https://localhost:8080/",
          "height": 432
        },
        "outputId": "349bf9dc-2980-4fd7-8b64-243b96a20576"
      },
      "source": [
        "prediction = pd.DataFrame(arima_model.predict(n_periods = 12),index=test.index)\n",
        "prediction.columns = ['predicted_stock_value']\n",
        "prediction"
      ],
      "execution_count": null,
      "outputs": [
        {
          "output_type": "execute_result",
          "data": {
            "text/html": [
              "<div>\n",
              "<style scoped>\n",
              "    .dataframe tbody tr th:only-of-type {\n",
              "        vertical-align: middle;\n",
              "    }\n",
              "\n",
              "    .dataframe tbody tr th {\n",
              "        vertical-align: top;\n",
              "    }\n",
              "\n",
              "    .dataframe thead th {\n",
              "        text-align: right;\n",
              "    }\n",
              "</style>\n",
              "<table border=\"1\" class=\"dataframe\">\n",
              "  <thead>\n",
              "    <tr style=\"text-align: right;\">\n",
              "      <th></th>\n",
              "      <th>predicted_stock_value</th>\n",
              "    </tr>\n",
              "    <tr>\n",
              "      <th>Date</th>\n",
              "      <th></th>\n",
              "    </tr>\n",
              "  </thead>\n",
              "  <tbody>\n",
              "    <tr>\n",
              "      <th>2019-01-01</th>\n",
              "      <td>46.800107</td>\n",
              "    </tr>\n",
              "    <tr>\n",
              "      <th>2019-02-01</th>\n",
              "      <td>46.800107</td>\n",
              "    </tr>\n",
              "    <tr>\n",
              "      <th>2019-03-01</th>\n",
              "      <td>46.800107</td>\n",
              "    </tr>\n",
              "    <tr>\n",
              "      <th>2019-04-01</th>\n",
              "      <td>46.800107</td>\n",
              "    </tr>\n",
              "    <tr>\n",
              "      <th>2019-05-01</th>\n",
              "      <td>46.800107</td>\n",
              "    </tr>\n",
              "    <tr>\n",
              "      <th>2019-06-01</th>\n",
              "      <td>46.800107</td>\n",
              "    </tr>\n",
              "    <tr>\n",
              "      <th>2019-07-01</th>\n",
              "      <td>46.800107</td>\n",
              "    </tr>\n",
              "    <tr>\n",
              "      <th>2019-08-01</th>\n",
              "      <td>46.800107</td>\n",
              "    </tr>\n",
              "    <tr>\n",
              "      <th>2019-09-01</th>\n",
              "      <td>46.800107</td>\n",
              "    </tr>\n",
              "    <tr>\n",
              "      <th>2019-10-01</th>\n",
              "      <td>46.800107</td>\n",
              "    </tr>\n",
              "    <tr>\n",
              "      <th>2019-11-01</th>\n",
              "      <td>46.800107</td>\n",
              "    </tr>\n",
              "    <tr>\n",
              "      <th>2019-12-01</th>\n",
              "      <td>46.800107</td>\n",
              "    </tr>\n",
              "  </tbody>\n",
              "</table>\n",
              "</div>"
            ],
            "text/plain": [
              "            predicted_stock_value\n",
              "Date                             \n",
              "2019-01-01              46.800107\n",
              "2019-02-01              46.800107\n",
              "2019-03-01              46.800107\n",
              "2019-04-01              46.800107\n",
              "2019-05-01              46.800107\n",
              "2019-06-01              46.800107\n",
              "2019-07-01              46.800107\n",
              "2019-08-01              46.800107\n",
              "2019-09-01              46.800107\n",
              "2019-10-01              46.800107\n",
              "2019-11-01              46.800107\n",
              "2019-12-01              46.800107"
            ]
          },
          "metadata": {
            "tags": []
          },
          "execution_count": 207
        }
      ]
    },
    {
      "cell_type": "markdown",
      "metadata": {
        "id": "Gxj2F-hGQ9cc",
        "colab_type": "text"
      },
      "source": [
        "Plotting Test,training and predicted values\n"
      ]
    },
    {
      "cell_type": "code",
      "metadata": {
        "id": "I7r0NWpcwmsV",
        "colab_type": "code",
        "colab": {
          "base_uri": "https://localhost:8080/",
          "height": 320
        },
        "outputId": "9b9f5cd2-d7a8-4811-cd89-ba1fc256e0c3"
      },
      "source": [
        "plt.figure(figsize=(8,5))\n",
        "plt.plot(train,label=\"Training\")\n",
        "plt.plot(test,label=\"Test\")\n",
        "plt.plot(prediction,label=\"Predicted\")\n",
        "plt.legend(loc = 'Left corner')\n",
        "plt.show()"
      ],
      "execution_count": null,
      "outputs": [
        {
          "output_type": "display_data",
          "data": {
            "image/png": "[encoded data removed]",
            "text/plain": [
              "<Figure size 576x360 with 1 Axes>"
            ]
          },
          "metadata": {
            "tags": [],
            "needs_background": "light"
          }
        }
      ]
    },
    {
      "cell_type": "code",
      "metadata": {
        "id": "ADTxEp2Jw4Oj",
        "colab_type": "code",
        "colab": {
          "base_uri": "https://localhost:8080/",
          "height": 34
        },
        "outputId": "a41086b9-b4db-4a2c-c474-2b5477e71307"
      },
      "source": [
        "from sklearn.metrics import r2_score,mean_squared_error\n",
        "np.sqrt(mean_squared_error(test,prediction))"
      ],
      "execution_count": null,
      "outputs": [
        {
          "output_type": "execute_result",
          "data": {
            "text/plain": [
              "290.4738692055206"
            ]
          },
          "metadata": {
            "tags": []
          },
          "execution_count": 210
        }
      ]
    },
    {
      "cell_type": "markdown",
      "metadata": {
        "id": "iY-w8vXuS3fO",
        "colab_type": "text"
      },
      "source": [
        "Acf and pacf plots\n"
      ]
    },
    {
      "cell_type": "code",
      "metadata": {
        "id": "kmCblWSSB1Dz",
        "colab_type": "code",
        "colab": {
          "base_uri": "https://localhost:8080/",
          "height": 1000
        },
        "outputId": "7f5a953a-6979-4497-d41e-2d0152534ccb"
      },
      "source": [
        "plot_acf(train)"
      ],
      "execution_count": null,
      "outputs": [
        {
          "output_type": "execute_result",
          "data": {
            "image/png": "[encoded data removed]",
            "text/plain": [
              "<Figure size 720x720 with 1 Axes>"
            ]
          },
          "metadata": {
            "tags": []
          },
          "execution_count": 28
        },
        {
          "output_type": "display_data",
          "data": {
            "image/png": "[encoded data removed]",
            "text/plain": [
              "<Figure size 720x720 with 1 Axes>"
            ]
          },
          "metadata": {
            "tags": [],
            "needs_background": "light"
          }
        }
      ]
    },
    {
      "cell_type": "code",
      "metadata": {
        "id": "5V2pQMAtCWTQ",
        "colab_type": "code",
        "colab": {
          "base_uri": "https://localhost:8080/",
          "height": 1000
        },
        "outputId": "92c5225a-71d4-4071-a4be-b011c0233307"
      },
      "source": [
        "plot_pacf(train)"
      ],
      "execution_count": null,
      "outputs": [
        {
          "output_type": "execute_result",
          "data": {
            "image/png": "[encoded data removed]",
            "text/plain": [
              "<Figure size 720x720 with 1 Axes>"
            ]
          },
          "metadata": {
            "tags": []
          },
          "execution_count": 29
        },
        {
          "output_type": "display_data",
          "data": {
            "image/png": "[encoded data removed]",
            "text/plain": [
              "<Figure size 720x720 with 1 Axes>"
            ]
          },
          "metadata": {
            "tags": [],
            "needs_background": "light"
          }
        }
      ]
    },
    {
      "cell_type": "markdown",
      "metadata": {
        "id": "qTY10KX5S9gK",
        "colab_type": "text"
      },
      "source": [
        "Simple Exponential Smoothing\n"
      ]
    },
    {
      "cell_type": "code",
      "metadata": {
        "id": "uTMvkM_2DMVl",
        "colab_type": "code",
        "colab": {}
      },
      "source": [
        "#In fit1, we explicitly provide the model with the smoothing parameter α=0.2\n",
        "#In fit2, we choose an α=0.6\n",
        "#In fit3, we use the auto-optimization that allow statsmodels to automatically find an optimized value for us. This is the recommended approach."
      ],
      "execution_count": null,
      "outputs": []
    },
    {
      "cell_type": "code",
      "metadata": {
        "id": "TOe8xTER06gr",
        "colab_type": "code",
        "colab": {}
      },
      "source": [
        "Y=stock_price['Open']\n",
        "train_1=Y[0:48]\n",
        "test_1=Y[48:]"
      ],
      "execution_count": null,
      "outputs": []
    },
    {
      "cell_type": "code",
      "metadata": {
        "id": "AY5cqooVDMhp",
        "colab_type": "code",
        "colab": {
          "base_uri": "https://localhost:8080/",
          "height": 608
        },
        "outputId": "d6a47bfb-7888-4b1a-a029-7d14cfe655dd"
      },
      "source": [
        "# Simple Exponential Smoothing\n",
        "fit1 = SimpleExpSmoothing(train_1).fit(smoothing_level=0.2,optimized=False)\n",
        "fcast1 = fit1.forecast(12).rename(r'$\\alpha=0.2$')\n",
        "# plot\n",
        "fcast1.plot(marker='o', color='blue', legend=True)\n",
        "fit1.fittedvalues.plot(marker='o',  color='blue')\n",
        "\n",
        "fit2 = SimpleExpSmoothing(train_1).fit(smoothing_level=0.6,optimized=False)\n",
        "fcast2 = fit2.forecast(12).rename(r'$\\alpha=0.6$')\n",
        "# plot\n",
        "fcast2.plot(marker='o', color='red', legend=True)\n",
        "fit2.fittedvalues.plot(marker='o', color='red')\n",
        "\n",
        "\n",
        "fit3 = SimpleExpSmoothing(train_1).fit()\n",
        "fcast3 = fit3.forecast(12).rename(r'$\\alpha=%s$'%fit3.model.params['smoothing_level'])\n",
        "# plot\n",
        "fcast3.plot(marker='o', color='green', legend=True)\n",
        "fit3.fittedvalues.plot(marker='o', color='green')\n",
        "\n",
        "\n",
        "\n",
        "\n",
        "plt.show()"
      ],
      "execution_count": null,
      "outputs": [
        {
          "output_type": "display_data",
          "data": {
            "image/png": "[encoded data removed]",
            "text/plain": [
              "<Figure size 720x720 with 1 Axes>"
            ]
          },
          "metadata": {
            "tags": [],
            "needs_background": "light"
          }
        }
      ]
    },
    {
      "cell_type": "code",
      "metadata": {
        "id": "ywmahwe9FQ64",
        "colab_type": "code",
        "colab": {
          "base_uri": "https://localhost:8080/",
          "height": 134
        },
        "outputId": "27c2fa83-a576-403c-c186-8161dbf1d286"
      },
      "source": [
        "print(fcast1.head(2),fcast2.head(2),fcast3.head(2))"
      ],
      "execution_count": null,
      "outputs": [
        {
          "output_type": "stream",
          "text": [
            "2019-01-01    2307.01956\n",
            "2019-02-01    2307.01956\n",
            "Freq: MS, Name: $\\alpha=0.2$, dtype: float64 2019-01-01    2485.519454\n",
            "2019-02-01    2485.519454\n",
            "Freq: MS, Name: $\\alpha=0.6$, dtype: float64 2019-01-01    2548.0\n",
            "2019-02-01    2548.0\n",
            "Freq: MS, Name: $\\alpha=1.0$, dtype: float64\n"
          ],
          "name": "stdout"
        }
      ]
    },
    {
      "cell_type": "code",
      "metadata": {
        "id": "H4Pokv5dGZmq",
        "colab_type": "code",
        "colab": {
          "base_uri": "https://localhost:8080/",
          "height": 67
        },
        "outputId": "5d0af1ca-bb26-4896-81f7-6c1736af004f"
      },
      "source": [
        "print(np.sqrt(mean_squared_error(test_1,fcast1)))\n",
        "print(np.sqrt(mean_squared_error(test_1,fcast2)))\n",
        "print(np.sqrt(mean_squared_error(test_1,fcast3)))"
      ],
      "execution_count": null,
      "outputs": [
        {
          "output_type": "stream",
          "text": [
            "1148.7880138012526\n",
            "993.9764729080007\n",
            "941.7705696831592\n"
          ],
          "name": "stdout"
        }
      ]
    },
    {
      "cell_type": "code",
      "metadata": {
        "id": "vfH9ZTpXI6Bb",
        "colab_type": "code",
        "colab": {}
      },
      "source": [
        "#So the lowest rmse score is for alpha=1"
      ],
      "execution_count": null,
      "outputs": []
    },
    {
      "cell_type": "markdown",
      "metadata": {
        "id": "QjdRIt-VJWNh",
        "colab_type": "text"
      },
      "source": [
        "Holt’s Method"
      ]
    },
    {
      "cell_type": "code",
      "metadata": {
        "id": "JG72vqhBJZ-q",
        "colab_type": "code",
        "colab": {}
      },
      "source": [
        "#In fit1, we explicitly provide the model with the smoothing parameter α=0.8, β*=0.2.\n",
        "#In fit2, we use an exponential model rather than a Holt’s additive model(which is the default).\n",
        "#In fit3, we use a damped version of the Holt’s additive model but allow the dampening parameter ϕ to be optimized while fixing the values for α=0.8, β*=0.2."
      ],
      "execution_count": null,
      "outputs": []
    },
    {
      "cell_type": "code",
      "metadata": {
        "id": "cTVXV2eDJaI3",
        "colab_type": "code",
        "colab": {
          "base_uri": "https://localhost:8080/",
          "height": 606
        },
        "outputId": "544081ec-422b-47e2-f103-08ca92544b9f"
      },
      "source": [
        "fit4 = Holt(train_1).fit(smoothing_level=0.8, smoothing_slope=0.2, optimized=False)\n",
        "fcast4 = fit4.forecast(12).rename(\"Holt's linear trend\")\n",
        "\n",
        "fit5 = Holt(train_1, exponential=True).fit(smoothing_level=0.8, smoothing_slope=0.2, optimized=False)\n",
        "fcast5 = fit5.forecast(12).rename(\"Exponential trend\")\n",
        "\n",
        "fit6 = Holt(train_1, damped=True).fit(smoothing_level=0.8, smoothing_slope=0.2)\n",
        "fcast6 = fit6.forecast(12).rename(\"Additive damped trend\")\n",
        "\n",
        "\n",
        "fit4.fittedvalues.plot(marker=\"o\", color='blue')\n",
        "fcast4.plot(color='blue', marker=\"o\", legend=True)\n",
        "fit5.fittedvalues.plot(marker=\"o\", color='red')\n",
        "fcast5.plot(color='red', marker=\"o\", legend=True)\n",
        "fit6.fittedvalues.plot(marker=\"o\", color='green')\n",
        "fcast6.plot(color='green', marker=\"o\", legend=True)\n",
        "\n",
        "plt.show()"
      ],
      "execution_count": null,
      "outputs": [
        {
          "output_type": "display_data",
          "data": {
            "image/png": "[encoded data removed]",
            "text/plain": [
              "<Figure size 720x720 with 1 Axes>"
            ]
          },
          "metadata": {
            "tags": [],
            "needs_background": "light"
          }
        }
      ]
    },
    {
      "cell_type": "code",
      "metadata": {
        "id": "nd3oY43oVDZx",
        "colab_type": "code",
        "colab": {
          "base_uri": "https://localhost:8080/",
          "height": 134
        },
        "outputId": "c6fb8d46-93da-4a19-e6f3-837336c8f24a"
      },
      "source": [
        "print(fcast4.head(2),fcast5.head(2),fcast6.head(2))"
      ],
      "execution_count": null,
      "outputs": [
        {
          "output_type": "stream",
          "text": [
            "2019-01-01    2574.820884\n",
            "2019-02-01    2627.461333\n",
            "Freq: MS, Name: Holt's linear trend, dtype: float64 2019-01-01    2606.653409\n",
            "2019-02-01    2686.372737\n",
            "Freq: MS, Name: Exponential trend, dtype: float64 2019-01-01    2521.029438\n",
            "2019-02-01    2527.017019\n",
            "Freq: MS, Name: Additive damped trend, dtype: float64\n"
          ],
          "name": "stdout"
        }
      ]
    },
    {
      "cell_type": "code",
      "metadata": {
        "id": "lzYtL2_VO9r0",
        "colab_type": "code",
        "colab": {
          "base_uri": "https://localhost:8080/",
          "height": 67
        },
        "outputId": "b0a7e56c-8627-4098-9137-5a310e8a72a8"
      },
      "source": [
        "print(np.sqrt(mean_squared_error(test_1,fcast4)))\n",
        "print(np.sqrt(mean_squared_error(test_1,fcast5)))\n",
        "print(np.sqrt(mean_squared_error(test_1,fcast6)))"
      ],
      "execution_count": null,
      "outputs": [
        {
          "output_type": "stream",
          "text": [
            "590.6013616897626\n",
            "350.75960742001075\n",
            "953.7225576283539\n"
          ],
          "name": "stdout"
        }
      ]
    },
    {
      "cell_type": "code",
      "metadata": {
        "id": "dxPF6k_SVSb0",
        "colab_type": "code",
        "colab": {}
      },
      "source": [
        "#The highest value is when alpha=0.8 and smoothing-slope=0.2 whe the model is exponential model in nature."
      ],
      "execution_count": null,
      "outputs": []
    },
    {
      "cell_type": "markdown",
      "metadata": {
        "id": "m65t4j6wVRhi",
        "colab_type": "text"
      },
      "source": [
        "**Holt Winters Model**"
      ]
    },
    {
      "cell_type": "code",
      "metadata": {
        "id": "5p0820NCWlmV",
        "colab_type": "code",
        "colab": {}
      },
      "source": [
        "#In fit1, we use additive trend, additive seasonal of period season_length=4 and a Box-Cox transformation.\n",
        "#In fit2, we use additive trend, multiplicative seasonal of period season_length=4 and a Box-Cox transformation.\n",
        "#In fit3, we use additive damped trend, additive seasonal of period season_length=4 and a Box-Cox transformation.\n",
        "#In fit4, we use additive damped trend, multiplicative seasonal of period season_length=4 and a Box-Cox transformation."
      ],
      "execution_count": null,
      "outputs": []
    },
    {
      "cell_type": "code",
      "metadata": {
        "id": "eFpjtATI9hM9",
        "colab_type": "code",
        "colab": {}
      },
      "source": [
        "test_1=pd.DataFrame(test_1)"
      ],
      "execution_count": null,
      "outputs": []
    },
    {
      "cell_type": "code",
      "metadata": {
        "id": "MrU4ZTNpZVNK",
        "colab_type": "code",
        "colab": {
          "base_uri": "https://localhost:8080/",
          "height": 875
        },
        "outputId": "65786c96-f87e-43c9-a3f0-6459e4c77754"
      },
      "source": [
        "\n",
        "\n",
        "for i in range(1,13):\n",
        "  fit9 = ExponentialSmoothing(train_1, seasonal_periods=4, trend='add', seasonal='add').fit(use_boxcox=True)\n",
        "  fcast9=fit9.forecast(i)\n",
        "  first_forecast=pd.DataFrame(fcast9,index=test_1.index,columns=['pred_values'])\n",
        "\n",
        "  first_forecast=first_forecast.join(test_1)\n",
        "  first_forecast['rmse']=np.sqrt(((first_forecast.pred_values - first_forecast.Open ) ** 2))\n",
        "print(first_forecast)\n",
        "print('*****average RMSE value****')\n",
        "print(np.mean(first_forecast.rmse))\n",
        "plt.plot(first_forecast.pred_values,color='r',label='predicted')\n",
        "plt.plot(first_forecast.Open,label='Observed')\n",
        "plt.xlabel('predicted')\n",
        "plt.ylabel('Observed')\n",
        "plt.legend()\n",
        "plt.show()\n",
        "\n",
        "\n",
        "\n"
      ],
      "execution_count": null,
      "outputs": [
        {
          "output_type": "stream",
          "text": [
            "            pred_values         Open        rmse\n",
            "Date                                            \n",
            "2019-01-01  2609.923258  2645.000000   35.076742\n",
            "2019-02-01  2480.879103  2575.000000   94.120897\n",
            "2019-03-01  2702.721382  2663.300049   39.421333\n",
            "2019-04-01  2926.568992  3030.199951  103.630959\n",
            "2019-05-01  2986.013658  3095.949951  109.936293\n",
            "2019-06-01  2839.839347  3460.000000  620.160653\n",
            "2019-07-01  3091.088253  3688.699951  597.611698\n",
            "2019-08-01  3344.412479  3231.000000  113.412479\n",
            "2019-09-01  3411.653980  3332.500000   79.153980\n",
            "2019-10-01  3246.284385  4080.000000  833.715615\n",
            "2019-11-01  3530.480024  4029.000000  498.519976\n",
            "2019-12-01  3816.806220  4075.000000  258.193780\n",
            "*****average RMSE value****\n",
            "281.91286706705444\n"
          ],
          "name": "stdout"
        },
        {
          "output_type": "display_data",
          "data": {
            "image/png": "[encoded data removed]",
            "text/plain": [
              "<Figure size 720x720 with 1 Axes>"
            ]
          },
          "metadata": {
            "tags": [],
            "needs_background": "light"
          }
        }
      ]
    },
    {
      "cell_type": "code",
      "metadata": {
        "id": "rQkHnTyK6pEz",
        "colab_type": "code",
        "colab": {
          "base_uri": "https://localhost:8080/",
          "height": 875
        },
        "outputId": "d77d9eac-ad0c-47f6-b3bf-850d6736cb54"
      },
      "source": [
        "for i in range(1,13):\n",
        "  fit10 = ExponentialSmoothing(train_1, seasonal_periods=4, trend='add', seasonal='mul').fit(use_boxcox=True)\n",
        "  fcast10=fit10.forecast(i)\n",
        "  second_forecast=pd.DataFrame(fcast10,index=test_1.index,columns=['pred_values'])\n",
        "  second_forecast=second_forecast.join(test_1)\n",
        "  second_forecast['rmse']=np.sqrt(((second_forecast.pred_values - second_forecast.Open ) ** 2))\n",
        "print(second_forecast)\n",
        "print('*****average RMSE value****')\n",
        "print(np.mean(second_forecast.rmse))\n",
        "plt.plot(second_forecast.pred_values,color='r',label='predicted')\n",
        "plt.plot(second_forecast.Open,label='Observed')\n",
        "plt.xlabel('predicted')\n",
        "plt.ylabel('Observed')\n",
        "plt.legend()\n",
        "plt.show()\n",
        "  "
      ],
      "execution_count": null,
      "outputs": [
        {
          "output_type": "stream",
          "text": [
            "            pred_values         Open        rmse\n",
            "Date                                            \n",
            "2019-01-01  2621.020226  2645.000000   23.979774\n",
            "2019-02-01  2455.317846  2575.000000  119.682154\n",
            "2019-03-01  2690.092479  2663.300049   26.792430\n",
            "2019-04-01  2925.517495  3030.199951  104.682456\n",
            "2019-05-01  2991.346010  3095.949951  104.603941\n",
            "2019-06-01  2797.953425  3460.000000  662.046575\n",
            "2019-07-01  3066.669440  3688.699951  622.030511\n",
            "2019-08-01  3335.999049  3231.000000  104.999049\n",
            "2019-09-01  3409.520807  3332.500000   77.020807\n",
            "2019-10-01  3184.319867  4080.000000  895.680133\n",
            "2019-11-01  3491.458630  4029.000000  537.541370\n",
            "2019-12-01  3799.153985  4075.000000  275.846015\n",
            "*****average RMSE value****\n",
            "296.242101250482\n"
          ],
          "name": "stdout"
        },
        {
          "output_type": "display_data",
          "data": {
            "image/png": "[encoded data removed]",
            "text/plain": [
              "<Figure size 720x720 with 1 Axes>"
            ]
          },
          "metadata": {
            "tags": [],
            "needs_background": "light"
          }
        }
      ]
    },
    {
      "cell_type": "code",
      "metadata": {
        "id": "wf09_vKZ9n8B",
        "colab_type": "code",
        "colab": {
          "base_uri": "https://localhost:8080/",
          "height": 875
        },
        "outputId": "48989dc5-60fa-4a0b-cc76-f3585fb3b9fa"
      },
      "source": [
        "for i in range(1,13):\n",
        "  fit11 = ExponentialSmoothing(train_1, seasonal_periods=4, trend='add', seasonal='add',damped=True).fit(use_boxcox=True)\n",
        "  fcast11=fit11.forecast(i)\n",
        "  third_forecast=pd.DataFrame(fcast11,index=test_1.index,columns=['pred_values'])\n",
        "  third_forecast=third_forecast.join(test_1)\n",
        "  third_forecast['rmse']=np.sqrt(((third_forecast.pred_values - third_forecast.Open ) ** 2))\n",
        "print(third_forecast)\n",
        "print('*****average RMSE value****')\n",
        "print(np.mean(third_forecast.rmse))\n",
        "plt.plot(third_forecast.pred_values,color='r',label='predicted')\n",
        "plt.plot(third_forecast.Open,label='Observed')\n",
        "plt.xlabel('predicted')\n",
        "plt.ylabel('Observed')\n",
        "plt.legend()\n",
        "plt.show()"
      ],
      "execution_count": null,
      "outputs": [
        {
          "output_type": "stream",
          "text": [
            "            pred_values         Open        rmse\n",
            "Date                                            \n",
            "2019-01-01  2610.703829  2645.000000   34.296171\n",
            "2019-02-01  2465.947065  2575.000000  109.052935\n",
            "2019-03-01  2684.940659  2663.300049   21.640610\n",
            "2019-04-01  2925.726476  3030.199951  104.473475\n",
            "2019-05-01  2981.835130  3095.949951  114.114821\n",
            "2019-06-01  2818.078054  3460.000000  641.921946\n",
            "2019-07-01  3065.682973  3688.699951  623.016978\n",
            "2019-08-01  3337.709456  3231.000000  106.709456\n",
            "2019-09-01  3401.032563  3332.500000   68.532563\n",
            "2019-10-01  3216.018163  4080.000000  863.981837\n",
            "2019-11-01  3495.615318  4029.000000  533.384682\n",
            "2019-12-01  3802.548710  4075.000000  272.451290\n",
            "*****average RMSE value****\n",
            "291.131397043906\n"
          ],
          "name": "stdout"
        },
        {
          "output_type": "display_data",
          "data": {
            "image/png": "[encoded data removed]",
            "text/plain": [
              "<Figure size 720x720 with 1 Axes>"
            ]
          },
          "metadata": {
            "tags": [],
            "needs_background": "light"
          }
        }
      ]
    },
    {
      "cell_type": "code",
      "metadata": {
        "id": "2oMBZVbesJvp",
        "colab_type": "code",
        "colab": {
          "base_uri": "https://localhost:8080/",
          "height": 875
        },
        "outputId": "90f3a575-c359-47b8-e253-927551fba633"
      },
      "source": [
        "\n",
        "for i in range(1,13):\n",
        "  fit12 = ExponentialSmoothing(train_1, seasonal_periods=4, trend='mul', seasonal='mul',damped=True,).fit(use_boxcox=True)\n",
        "  fcast12=fit12.forecast(i)\n",
        "  fourth_forecast=pd.DataFrame(fcast12,index=test_1.index,columns=['pred_values'])\n",
        "  fourth_forecast=fourth_forecast.join(test_1)\n",
        "  fourth_forecast['rmse']=np.sqrt(((fourth_forecast.pred_values - fourth_forecast.Open ) ** 2))\n",
        "print(fourth_forecast)\n",
        "print('*****average RMSE value****')\n",
        "print(np.mean(fourth_forecast.rmse))\n",
        "plt.plot(fourth_forecast.pred_values,color='r',label='predicted')\n",
        "plt.plot(fourth_forecast.Open,label='Observed')\n",
        "plt.xlabel('predicted')\n",
        "plt.ylabel('Observed')\n",
        "plt.legend()\n",
        "plt.show()\n"
      ],
      "execution_count": null,
      "outputs": [
        {
          "output_type": "stream",
          "text": [
            "            pred_values         Open         rmse\n",
            "Date                                             \n",
            "2019-01-01  2689.908797  2645.000000    44.908797\n",
            "2019-02-01  2821.987672  2575.000000   246.987672\n",
            "2019-03-01  3065.012181  2663.300049   401.712132\n",
            "2019-04-01  3395.863017  3030.199951   365.663066\n",
            "2019-05-01  3572.152692  3095.949951   476.202741\n",
            "2019-06-01  3733.660318  3460.000000   273.660318\n",
            "2019-07-01  4043.810678  3688.699951   355.110727\n",
            "2019-08-01  4469.899193  3231.000000  1238.899193\n",
            "2019-09-01  4685.166587  3332.500000  1352.666587\n",
            "2019-10-01  4878.984413  4080.000000   798.984413\n",
            "2019-11-01  5269.321194  4029.000000  1240.321194\n",
            "2019-12-01  5810.721896  4075.000000  1735.721896\n",
            "*****average RMSE value****\n",
            "710.9032279319126\n"
          ],
          "name": "stdout"
        },
        {
          "output_type": "display_data",
          "data": {
            "image/png": "[encoded data removed]",
            "text/plain": [
              "<Figure size 720x720 with 1 Axes>"
            ]
          },
          "metadata": {
            "tags": [],
            "needs_background": "light"
          }
        }
      ]
    },
    {
      "cell_type": "code",
      "metadata": {
        "id": "IjZOhbxbGUvI",
        "colab_type": "code",
        "colab": {}
      },
      "source": [
        "#The holt winter is giving me lowest RMSE when trend and seasonality is additive and damped=True"
      ],
      "execution_count": null,
      "outputs": []
    },
    {
      "cell_type": "markdown",
      "metadata": {
        "id": "Be1I4PToPth8",
        "colab_type": "text"
      },
      "source": [
        ""
      ]
    },
    {
      "cell_type": "markdown",
      "metadata": {
        "id": "D_HAPNf_jIJD",
        "colab_type": "text"
      },
      "source": [
        "Regression Analysis\n"
      ]
    },
    {
      "cell_type": "code",
      "metadata": {
        "id": "sc_E-g8AjPm5",
        "colab_type": "code",
        "colab": {}
      },
      "source": [
        "#Here we are going to apply Regression Analysis Using Linear Regression,Random Forest,GBM.\n",
        "#I will have my opening price as my dependent Variable"
      ],
      "execution_count": null,
      "outputs": []
    },
    {
      "cell_type": "code",
      "metadata": {
        "id": "cehlxjPFkF6a",
        "colab_type": "code",
        "colab": {
          "base_uri": "https://localhost:8080/",
          "height": 225
        },
        "outputId": "20288fdb-ecc8-474d-f81f-56c76ae79057"
      },
      "source": [
        "stock_price.head(5)"
      ],
      "execution_count": null,
      "outputs": [
        {
          "output_type": "execute_result",
          "data": {
            "text/html": [
              "<div>\n",
              "<style scoped>\n",
              "    .dataframe tbody tr th:only-of-type {\n",
              "        vertical-align: middle;\n",
              "    }\n",
              "\n",
              "    .dataframe tbody tr th {\n",
              "        vertical-align: top;\n",
              "    }\n",
              "\n",
              "    .dataframe thead th {\n",
              "        text-align: right;\n",
              "    }\n",
              "</style>\n",
              "<table border=\"1\" class=\"dataframe\">\n",
              "  <thead>\n",
              "    <tr style=\"text-align: right;\">\n",
              "      <th></th>\n",
              "      <th>Open</th>\n",
              "      <th>High</th>\n",
              "      <th>Low</th>\n",
              "      <th>Close</th>\n",
              "      <th>Adj Close</th>\n",
              "      <th>Volume</th>\n",
              "    </tr>\n",
              "    <tr>\n",
              "      <th>Date</th>\n",
              "      <th></th>\n",
              "      <th></th>\n",
              "      <th></th>\n",
              "      <th></th>\n",
              "      <th></th>\n",
              "      <th></th>\n",
              "    </tr>\n",
              "  </thead>\n",
              "  <tbody>\n",
              "    <tr>\n",
              "      <th>2015-01-01</th>\n",
              "      <td>348.394989</td>\n",
              "      <td>449.239990</td>\n",
              "      <td>339.220001</td>\n",
              "      <td>405.054993</td>\n",
              "      <td>373.992950</td>\n",
              "      <td>12293830</td>\n",
              "    </tr>\n",
              "    <tr>\n",
              "      <th>2015-02-01</th>\n",
              "      <td>409.899994</td>\n",
              "      <td>439.885010</td>\n",
              "      <td>396.500000</td>\n",
              "      <td>410.709991</td>\n",
              "      <td>379.214294</td>\n",
              "      <td>5212560</td>\n",
              "    </tr>\n",
              "    <tr>\n",
              "      <th>2015-03-01</th>\n",
              "      <td>439.049988</td>\n",
              "      <td>447.700012</td>\n",
              "      <td>390.114990</td>\n",
              "      <td>410.845001</td>\n",
              "      <td>379.338959</td>\n",
              "      <td>5849590</td>\n",
              "    </tr>\n",
              "    <tr>\n",
              "      <th>2015-04-01</th>\n",
              "      <td>415.799988</td>\n",
              "      <td>469.899994</td>\n",
              "      <td>391.350006</td>\n",
              "      <td>404.429993</td>\n",
              "      <td>373.415894</td>\n",
              "      <td>6898600</td>\n",
              "    </tr>\n",
              "    <tr>\n",
              "      <th>2015-05-01</th>\n",
              "      <td>404.429993</td>\n",
              "      <td>460.000000</td>\n",
              "      <td>391.959991</td>\n",
              "      <td>421.654999</td>\n",
              "      <td>389.319977</td>\n",
              "      <td>7366890</td>\n",
              "    </tr>\n",
              "  </tbody>\n",
              "</table>\n",
              "</div>"
            ],
            "text/plain": [
              "                  Open        High  ...   Adj Close    Volume\n",
              "Date                                ...                      \n",
              "2015-01-01  348.394989  449.239990  ...  373.992950  12293830\n",
              "2015-02-01  409.899994  439.885010  ...  379.214294   5212560\n",
              "2015-03-01  439.049988  447.700012  ...  379.338959   5849590\n",
              "2015-04-01  415.799988  469.899994  ...  373.415894   6898600\n",
              "2015-05-01  404.429993  460.000000  ...  389.319977   7366890\n",
              "\n",
              "[5 rows x 6 columns]"
            ]
          },
          "metadata": {
            "tags": []
          },
          "execution_count": 214
        }
      ]
    },
    {
      "cell_type": "code",
      "metadata": {
        "id": "Q9U1IAKDZ9QF",
        "colab_type": "code",
        "colab": {
          "base_uri": "https://localhost:8080/",
          "height": 225
        },
        "outputId": "27a4b204-c327-4e0d-ba64-8ffc09ae6bae"
      },
      "source": [
        "stock_price.corr()"
      ],
      "execution_count": null,
      "outputs": [
        {
          "output_type": "execute_result",
          "data": {
            "text/html": [
              "<div>\n",
              "<style scoped>\n",
              "    .dataframe tbody tr th:only-of-type {\n",
              "        vertical-align: middle;\n",
              "    }\n",
              "\n",
              "    .dataframe tbody tr th {\n",
              "        vertical-align: top;\n",
              "    }\n",
              "\n",
              "    .dataframe thead th {\n",
              "        text-align: right;\n",
              "    }\n",
              "</style>\n",
              "<table border=\"1\" class=\"dataframe\">\n",
              "  <thead>\n",
              "    <tr style=\"text-align: right;\">\n",
              "      <th></th>\n",
              "      <th>Open</th>\n",
              "      <th>High</th>\n",
              "      <th>Low</th>\n",
              "      <th>Close</th>\n",
              "      <th>Adj Close</th>\n",
              "      <th>Volume</th>\n",
              "    </tr>\n",
              "  </thead>\n",
              "  <tbody>\n",
              "    <tr>\n",
              "      <th>Open</th>\n",
              "      <td>1.000000</td>\n",
              "      <td>0.568112</td>\n",
              "      <td>0.992535</td>\n",
              "      <td>0.551992</td>\n",
              "      <td>0.578731</td>\n",
              "      <td>0.432473</td>\n",
              "    </tr>\n",
              "    <tr>\n",
              "      <th>High</th>\n",
              "      <td>0.568112</td>\n",
              "      <td>1.000000</td>\n",
              "      <td>0.565501</td>\n",
              "      <td>0.997126</td>\n",
              "      <td>0.996938</td>\n",
              "      <td>0.163095</td>\n",
              "    </tr>\n",
              "    <tr>\n",
              "      <th>Low</th>\n",
              "      <td>0.992535</td>\n",
              "      <td>0.565501</td>\n",
              "      <td>1.000000</td>\n",
              "      <td>0.556583</td>\n",
              "      <td>0.583422</td>\n",
              "      <td>0.369582</td>\n",
              "    </tr>\n",
              "    <tr>\n",
              "      <th>Close</th>\n",
              "      <td>0.551992</td>\n",
              "      <td>0.997126</td>\n",
              "      <td>0.556583</td>\n",
              "      <td>1.000000</td>\n",
              "      <td>0.999444</td>\n",
              "      <td>0.136652</td>\n",
              "    </tr>\n",
              "    <tr>\n",
              "      <th>Adj Close</th>\n",
              "      <td>0.578731</td>\n",
              "      <td>0.996938</td>\n",
              "      <td>0.583422</td>\n",
              "      <td>0.999444</td>\n",
              "      <td>1.000000</td>\n",
              "      <td>0.151389</td>\n",
              "    </tr>\n",
              "    <tr>\n",
              "      <th>Volume</th>\n",
              "      <td>0.432473</td>\n",
              "      <td>0.163095</td>\n",
              "      <td>0.369582</td>\n",
              "      <td>0.136652</td>\n",
              "      <td>0.151389</td>\n",
              "      <td>1.000000</td>\n",
              "    </tr>\n",
              "  </tbody>\n",
              "</table>\n",
              "</div>"
            ],
            "text/plain": [
              "               Open      High       Low     Close  Adj Close    Volume\n",
              "Open       1.000000  0.568112  0.992535  0.551992   0.578731  0.432473\n",
              "High       0.568112  1.000000  0.565501  0.997126   0.996938  0.163095\n",
              "Low        0.992535  0.565501  1.000000  0.556583   0.583422  0.369582\n",
              "Close      0.551992  0.997126  0.556583  1.000000   0.999444  0.136652\n",
              "Adj Close  0.578731  0.996938  0.583422  0.999444   1.000000  0.151389\n",
              "Volume     0.432473  0.163095  0.369582  0.136652   0.151389  1.000000"
            ]
          },
          "metadata": {
            "tags": []
          },
          "execution_count": 215
        }
      ]
    },
    {
      "cell_type": "code",
      "metadata": {
        "id": "4nord08qNRh1",
        "colab_type": "code",
        "colab": {}
      },
      "source": [
        "#As we see there is a  high correlation between certain factors ,so we will use VIF and if VIF>10,we will drop that column."
      ],
      "execution_count": null,
      "outputs": []
    },
    {
      "cell_type": "markdown",
      "metadata": {
        "id": "SC1Rjp9jWDNg",
        "colab_type": "text"
      },
      "source": [
        "Variance inflation Factor\n"
      ]
    },
    {
      "cell_type": "code",
      "metadata": {
        "id": "efwMhDrgNlMX",
        "colab_type": "code",
        "colab": {}
      },
      "source": [
        "def calc_vif(X):\n",
        "    vif = pd.DataFrame()\n",
        "    vif[\"variables\"] = X.columns\n",
        "    vif[\"VIF\"] = [variance_inflation_factor(X.values, i) for i in range(X.shape[1])]\n",
        "    return(vif)\n"
      ],
      "execution_count": null,
      "outputs": []
    },
    {
      "cell_type": "code",
      "metadata": {
        "id": "PI1ArDiRObs4",
        "colab_type": "code",
        "colab": {
          "base_uri": "https://localhost:8080/",
          "height": 195
        },
        "outputId": "b80b13eb-56a6-4359-ca0f-55ac3e67a588"
      },
      "source": [
        "stock_price1=stock_price.drop('Open',1)\n",
        "calc_vif(stock_price1)\n",
        "# we see close and adj_close have high vif but since Close has more VIF,I will drop it"
      ],
      "execution_count": null,
      "outputs": [
        {
          "output_type": "execute_result",
          "data": {
            "text/html": [
              "<div>\n",
              "<style scoped>\n",
              "    .dataframe tbody tr th:only-of-type {\n",
              "        vertical-align: middle;\n",
              "    }\n",
              "\n",
              "    .dataframe tbody tr th {\n",
              "        vertical-align: top;\n",
              "    }\n",
              "\n",
              "    .dataframe thead th {\n",
              "        text-align: right;\n",
              "    }\n",
              "</style>\n",
              "<table border=\"1\" class=\"dataframe\">\n",
              "  <thead>\n",
              "    <tr style=\"text-align: right;\">\n",
              "      <th></th>\n",
              "      <th>variables</th>\n",
              "      <th>VIF</th>\n",
              "    </tr>\n",
              "  </thead>\n",
              "  <tbody>\n",
              "    <tr>\n",
              "      <th>0</th>\n",
              "      <td>High</td>\n",
              "      <td>653.339418</td>\n",
              "    </tr>\n",
              "    <tr>\n",
              "      <th>1</th>\n",
              "      <td>Low</td>\n",
              "      <td>45.993743</td>\n",
              "    </tr>\n",
              "    <tr>\n",
              "      <th>2</th>\n",
              "      <td>Close</td>\n",
              "      <td>29876.240780</td>\n",
              "    </tr>\n",
              "    <tr>\n",
              "      <th>3</th>\n",
              "      <td>Adj Close</td>\n",
              "      <td>29791.819976</td>\n",
              "    </tr>\n",
              "    <tr>\n",
              "      <th>4</th>\n",
              "      <td>Volume</td>\n",
              "      <td>3.474237</td>\n",
              "    </tr>\n",
              "  </tbody>\n",
              "</table>\n",
              "</div>"
            ],
            "text/plain": [
              "   variables           VIF\n",
              "0       High    653.339418\n",
              "1        Low     45.993743\n",
              "2      Close  29876.240780\n",
              "3  Adj Close  29791.819976\n",
              "4     Volume      3.474237"
            ]
          },
          "metadata": {
            "tags": []
          },
          "execution_count": 55
        }
      ]
    },
    {
      "cell_type": "code",
      "metadata": {
        "id": "JqTqXmcmPj8O",
        "colab_type": "code",
        "colab": {}
      },
      "source": [
        "stock_price.drop('Close',1,inplace=True)"
      ],
      "execution_count": null,
      "outputs": []
    },
    {
      "cell_type": "code",
      "metadata": {
        "id": "UkzGAkTCP_5j",
        "colab_type": "code",
        "colab": {
          "base_uri": "https://localhost:8080/",
          "height": 195
        },
        "outputId": "62cdae43-7bc5-4f92-c6b0-1b002f9c569f"
      },
      "source": [
        "stock_price.corr()"
      ],
      "execution_count": null,
      "outputs": [
        {
          "output_type": "execute_result",
          "data": {
            "text/html": [
              "<div>\n",
              "<style scoped>\n",
              "    .dataframe tbody tr th:only-of-type {\n",
              "        vertical-align: middle;\n",
              "    }\n",
              "\n",
              "    .dataframe tbody tr th {\n",
              "        vertical-align: top;\n",
              "    }\n",
              "\n",
              "    .dataframe thead th {\n",
              "        text-align: right;\n",
              "    }\n",
              "</style>\n",
              "<table border=\"1\" class=\"dataframe\">\n",
              "  <thead>\n",
              "    <tr style=\"text-align: right;\">\n",
              "      <th></th>\n",
              "      <th>Open</th>\n",
              "      <th>High</th>\n",
              "      <th>Low</th>\n",
              "      <th>Adj Close</th>\n",
              "      <th>Volume</th>\n",
              "    </tr>\n",
              "  </thead>\n",
              "  <tbody>\n",
              "    <tr>\n",
              "      <th>Open</th>\n",
              "      <td>1.000000</td>\n",
              "      <td>0.568112</td>\n",
              "      <td>0.992535</td>\n",
              "      <td>0.578731</td>\n",
              "      <td>0.432473</td>\n",
              "    </tr>\n",
              "    <tr>\n",
              "      <th>High</th>\n",
              "      <td>0.568112</td>\n",
              "      <td>1.000000</td>\n",
              "      <td>0.565501</td>\n",
              "      <td>0.996938</td>\n",
              "      <td>0.163095</td>\n",
              "    </tr>\n",
              "    <tr>\n",
              "      <th>Low</th>\n",
              "      <td>0.992535</td>\n",
              "      <td>0.565501</td>\n",
              "      <td>1.000000</td>\n",
              "      <td>0.583422</td>\n",
              "      <td>0.369582</td>\n",
              "    </tr>\n",
              "    <tr>\n",
              "      <th>Adj Close</th>\n",
              "      <td>0.578731</td>\n",
              "      <td>0.996938</td>\n",
              "      <td>0.583422</td>\n",
              "      <td>1.000000</td>\n",
              "      <td>0.151389</td>\n",
              "    </tr>\n",
              "    <tr>\n",
              "      <th>Volume</th>\n",
              "      <td>0.432473</td>\n",
              "      <td>0.163095</td>\n",
              "      <td>0.369582</td>\n",
              "      <td>0.151389</td>\n",
              "      <td>1.000000</td>\n",
              "    </tr>\n",
              "  </tbody>\n",
              "</table>\n",
              "</div>"
            ],
            "text/plain": [
              "               Open      High       Low  Adj Close    Volume\n",
              "Open       1.000000  0.568112  0.992535   0.578731  0.432473\n",
              "High       0.568112  1.000000  0.565501   0.996938  0.163095\n",
              "Low        0.992535  0.565501  1.000000   0.583422  0.369582\n",
              "Adj Close  0.578731  0.996938  0.583422   1.000000  0.151389\n",
              "Volume     0.432473  0.163095  0.369582   0.151389  1.000000"
            ]
          },
          "metadata": {
            "tags": []
          },
          "execution_count": 217
        }
      ]
    },
    {
      "cell_type": "code",
      "metadata": {
        "id": "vRhIl5ibP0qg",
        "colab_type": "code",
        "colab": {
          "base_uri": "https://localhost:8080/",
          "height": 166
        },
        "outputId": "43cfc55d-e7e3-4558-eb79-dc314431a56b"
      },
      "source": [
        "stock_price1=stock_price.drop('Open',1)\n",
        "calc_vif(stock_price1)\n",
        "#Now since High and Adj close have high correlation,we will drop Adj close since it has a high Vif\n"
      ],
      "execution_count": null,
      "outputs": [
        {
          "output_type": "execute_result",
          "data": {
            "text/html": [
              "<div>\n",
              "<style scoped>\n",
              "    .dataframe tbody tr th:only-of-type {\n",
              "        vertical-align: middle;\n",
              "    }\n",
              "\n",
              "    .dataframe tbody tr th {\n",
              "        vertical-align: top;\n",
              "    }\n",
              "\n",
              "    .dataframe thead th {\n",
              "        text-align: right;\n",
              "    }\n",
              "</style>\n",
              "<table border=\"1\" class=\"dataframe\">\n",
              "  <thead>\n",
              "    <tr style=\"text-align: right;\">\n",
              "      <th></th>\n",
              "      <th>variables</th>\n",
              "      <th>VIF</th>\n",
              "    </tr>\n",
              "  </thead>\n",
              "  <tbody>\n",
              "    <tr>\n",
              "      <th>0</th>\n",
              "      <td>High</td>\n",
              "      <td>597.195846</td>\n",
              "    </tr>\n",
              "    <tr>\n",
              "      <th>1</th>\n",
              "      <td>Low</td>\n",
              "      <td>6.245184</td>\n",
              "    </tr>\n",
              "    <tr>\n",
              "      <th>2</th>\n",
              "      <td>Adj Close</td>\n",
              "      <td>610.543919</td>\n",
              "    </tr>\n",
              "    <tr>\n",
              "      <th>3</th>\n",
              "      <td>Volume</td>\n",
              "      <td>3.474165</td>\n",
              "    </tr>\n",
              "  </tbody>\n",
              "</table>\n",
              "</div>"
            ],
            "text/plain": [
              "   variables         VIF\n",
              "0       High  597.195846\n",
              "1        Low    6.245184\n",
              "2  Adj Close  610.543919\n",
              "3     Volume    3.474165"
            ]
          },
          "metadata": {
            "tags": []
          },
          "execution_count": 218
        }
      ]
    },
    {
      "cell_type": "code",
      "metadata": {
        "id": "xdsDLLaPP3Yd",
        "colab_type": "code",
        "colab": {}
      },
      "source": [
        "stock_price.drop('Adj Close',1,inplace=True)"
      ],
      "execution_count": null,
      "outputs": []
    },
    {
      "cell_type": "code",
      "metadata": {
        "id": "dzfVc3qUQOjD",
        "colab_type": "code",
        "colab": {
          "base_uri": "https://localhost:8080/",
          "height": 136
        },
        "outputId": "d6f5892f-0846-4ead-ff3c-b712e754f544"
      },
      "source": [
        "stock_price1=stock_price.drop('Open',1)\n",
        "calc_vif(stock_price1)"
      ],
      "execution_count": null,
      "outputs": [
        {
          "output_type": "execute_result",
          "data": {
            "text/html": [
              "<div>\n",
              "<style scoped>\n",
              "    .dataframe tbody tr th:only-of-type {\n",
              "        vertical-align: middle;\n",
              "    }\n",
              "\n",
              "    .dataframe tbody tr th {\n",
              "        vertical-align: top;\n",
              "    }\n",
              "\n",
              "    .dataframe thead th {\n",
              "        text-align: right;\n",
              "    }\n",
              "</style>\n",
              "<table border=\"1\" class=\"dataframe\">\n",
              "  <thead>\n",
              "    <tr style=\"text-align: right;\">\n",
              "      <th></th>\n",
              "      <th>variables</th>\n",
              "      <th>VIF</th>\n",
              "    </tr>\n",
              "  </thead>\n",
              "  <tbody>\n",
              "    <tr>\n",
              "      <th>0</th>\n",
              "      <td>High</td>\n",
              "      <td>4.101211</td>\n",
              "    </tr>\n",
              "    <tr>\n",
              "      <th>1</th>\n",
              "      <td>Low</td>\n",
              "      <td>5.357564</td>\n",
              "    </tr>\n",
              "    <tr>\n",
              "      <th>2</th>\n",
              "      <td>Volume</td>\n",
              "      <td>3.056312</td>\n",
              "    </tr>\n",
              "  </tbody>\n",
              "</table>\n",
              "</div>"
            ],
            "text/plain": [
              "  variables       VIF\n",
              "0      High  4.101211\n",
              "1       Low  5.357564\n",
              "2    Volume  3.056312"
            ]
          },
          "metadata": {
            "tags": []
          },
          "execution_count": 220
        }
      ]
    },
    {
      "cell_type": "code",
      "metadata": {
        "id": "UNBJxDPGQKp_",
        "colab_type": "code",
        "colab": {
          "base_uri": "https://localhost:8080/",
          "height": 225
        },
        "outputId": "294ece43-5d15-496f-b14c-7b3eb91ae59f"
      },
      "source": [
        "stock_price.head()"
      ],
      "execution_count": null,
      "outputs": [
        {
          "output_type": "execute_result",
          "data": {
            "text/html": [
              "<div>\n",
              "<style scoped>\n",
              "    .dataframe tbody tr th:only-of-type {\n",
              "        vertical-align: middle;\n",
              "    }\n",
              "\n",
              "    .dataframe tbody tr th {\n",
              "        vertical-align: top;\n",
              "    }\n",
              "\n",
              "    .dataframe thead th {\n",
              "        text-align: right;\n",
              "    }\n",
              "</style>\n",
              "<table border=\"1\" class=\"dataframe\">\n",
              "  <thead>\n",
              "    <tr style=\"text-align: right;\">\n",
              "      <th></th>\n",
              "      <th>Open</th>\n",
              "      <th>High</th>\n",
              "      <th>Low</th>\n",
              "      <th>Volume</th>\n",
              "    </tr>\n",
              "    <tr>\n",
              "      <th>Date</th>\n",
              "      <th></th>\n",
              "      <th></th>\n",
              "      <th></th>\n",
              "      <th></th>\n",
              "    </tr>\n",
              "  </thead>\n",
              "  <tbody>\n",
              "    <tr>\n",
              "      <th>2015-01-01</th>\n",
              "      <td>348.394989</td>\n",
              "      <td>449.239990</td>\n",
              "      <td>339.220001</td>\n",
              "      <td>12293830</td>\n",
              "    </tr>\n",
              "    <tr>\n",
              "      <th>2015-02-01</th>\n",
              "      <td>409.899994</td>\n",
              "      <td>439.885010</td>\n",
              "      <td>396.500000</td>\n",
              "      <td>5212560</td>\n",
              "    </tr>\n",
              "    <tr>\n",
              "      <th>2015-03-01</th>\n",
              "      <td>439.049988</td>\n",
              "      <td>447.700012</td>\n",
              "      <td>390.114990</td>\n",
              "      <td>5849590</td>\n",
              "    </tr>\n",
              "    <tr>\n",
              "      <th>2015-04-01</th>\n",
              "      <td>415.799988</td>\n",
              "      <td>469.899994</td>\n",
              "      <td>391.350006</td>\n",
              "      <td>6898600</td>\n",
              "    </tr>\n",
              "    <tr>\n",
              "      <th>2015-05-01</th>\n",
              "      <td>404.429993</td>\n",
              "      <td>460.000000</td>\n",
              "      <td>391.959991</td>\n",
              "      <td>7366890</td>\n",
              "    </tr>\n",
              "  </tbody>\n",
              "</table>\n",
              "</div>"
            ],
            "text/plain": [
              "                  Open        High         Low    Volume\n",
              "Date                                                    \n",
              "2015-01-01  348.394989  449.239990  339.220001  12293830\n",
              "2015-02-01  409.899994  439.885010  396.500000   5212560\n",
              "2015-03-01  439.049988  447.700012  390.114990   5849590\n",
              "2015-04-01  415.799988  469.899994  391.350006   6898600\n",
              "2015-05-01  404.429993  460.000000  391.959991   7366890"
            ]
          },
          "metadata": {
            "tags": []
          },
          "execution_count": 221
        }
      ]
    },
    {
      "cell_type": "markdown",
      "metadata": {
        "id": "GCytRG9IAcj8",
        "colab_type": "text"
      },
      "source": [
        "Linear Regression\n"
      ]
    },
    {
      "cell_type": "code",
      "metadata": {
        "id": "HHl1X4J7kxXX",
        "colab_type": "code",
        "colab": {}
      },
      "source": [
        "lr=LinearRegression(normalize=True)"
      ],
      "execution_count": null,
      "outputs": []
    },
    {
      "cell_type": "code",
      "metadata": {
        "id": "LMrw5zYAmf70",
        "colab_type": "code",
        "colab": {}
      },
      "source": [
        "X=stock_price.drop('Open',1)\n",
        "y=stock_price['Open']"
      ],
      "execution_count": null,
      "outputs": []
    },
    {
      "cell_type": "code",
      "metadata": {
        "id": "Aa6YsjhnnjQA",
        "colab_type": "code",
        "colab": {}
      },
      "source": [
        "X_train=X[0:48]\n",
        "X_test=X[48:60]\n",
        "y_train=y[0:48]\n",
        "y_test=y[48:60]\n"
      ],
      "execution_count": null,
      "outputs": []
    },
    {
      "cell_type": "code",
      "metadata": {
        "id": "Y0vCUCtToB4d",
        "colab_type": "code",
        "colab": {
          "base_uri": "https://localhost:8080/",
          "height": 34
        },
        "outputId": "0bdea906-9cb1-46cc-dd2a-7800bd70124d"
      },
      "source": [
        "lr.fit(X_train,y_train)"
      ],
      "execution_count": null,
      "outputs": [
        {
          "output_type": "execute_result",
          "data": {
            "text/plain": [
              "LinearRegression(copy_X=True, fit_intercept=True, n_jobs=None, normalize=True)"
            ]
          },
          "metadata": {
            "tags": []
          },
          "execution_count": 226
        }
      ]
    },
    {
      "cell_type": "code",
      "metadata": {
        "id": "2nQSEwsYou50",
        "colab_type": "code",
        "colab": {}
      },
      "source": [
        "lr_predict=lr.predict(X_test)"
      ],
      "execution_count": null,
      "outputs": []
    },
    {
      "cell_type": "code",
      "metadata": {
        "id": "BKVS8W26o1Ji",
        "colab_type": "code",
        "colab": {
          "base_uri": "https://localhost:8080/",
          "height": 34
        },
        "outputId": "3a8480f1-f40d-434b-e8d8-1d6bce631f5e"
      },
      "source": [
        "np.sqrt(mean_squared_error(lr_predict,y_test))"
      ],
      "execution_count": null,
      "outputs": [
        {
          "output_type": "execute_result",
          "data": {
            "text/plain": [
              "146.08391248363654"
            ]
          },
          "metadata": {
            "tags": []
          },
          "execution_count": 228
        }
      ]
    },
    {
      "cell_type": "code",
      "metadata": {
        "id": "jHDH72lMab4V",
        "colab_type": "code",
        "colab": {
          "base_uri": "https://localhost:8080/",
          "height": 34
        },
        "outputId": "74e93a51-3f85-4390-ce24-c63cfb64b444"
      },
      "source": [
        "np.mean(lr_predict)"
      ],
      "execution_count": null,
      "outputs": [
        {
          "output_type": "execute_result",
          "data": {
            "text/plain": [
              "3331.593037581124"
            ]
          },
          "metadata": {
            "tags": []
          },
          "execution_count": 229
        }
      ]
    },
    {
      "cell_type": "code",
      "metadata": {
        "id": "tVOqY1spagzC",
        "colab_type": "code",
        "colab": {
          "base_uri": "https://localhost:8080/",
          "height": 34
        },
        "outputId": "1342e0a4-9352-4708-b1ac-c290b1a5c657"
      },
      "source": [
        "np.sqrt(mean_squared_error(lr_predict,y_test))/np.mean(test)\n",
        "#Error is 11.5%"
      ],
      "execution_count": null,
      "outputs": [
        {
          "output_type": "execute_result",
          "data": {
            "text/plain": [
              "1.1535922726339591"
            ]
          },
          "metadata": {
            "tags": []
          },
          "execution_count": 240
        }
      ]
    },
    {
      "cell_type": "code",
      "metadata": {
        "id": "ZiAPm8RpXIYY",
        "colab_type": "code",
        "colab": {
          "base_uri": "https://localhost:8080/",
          "height": 225
        },
        "outputId": "1dee081a-3497-4bb4-cd58-75f604cfd24f"
      },
      "source": [
        "X.head()"
      ],
      "execution_count": null,
      "outputs": [
        {
          "output_type": "execute_result",
          "data": {
            "text/html": [
              "<div>\n",
              "<style scoped>\n",
              "    .dataframe tbody tr th:only-of-type {\n",
              "        vertical-align: middle;\n",
              "    }\n",
              "\n",
              "    .dataframe tbody tr th {\n",
              "        vertical-align: top;\n",
              "    }\n",
              "\n",
              "    .dataframe thead th {\n",
              "        text-align: right;\n",
              "    }\n",
              "</style>\n",
              "<table border=\"1\" class=\"dataframe\">\n",
              "  <thead>\n",
              "    <tr style=\"text-align: right;\">\n",
              "      <th></th>\n",
              "      <th>High</th>\n",
              "      <th>Low</th>\n",
              "      <th>Volume</th>\n",
              "    </tr>\n",
              "    <tr>\n",
              "      <th>Date</th>\n",
              "      <th></th>\n",
              "      <th></th>\n",
              "      <th></th>\n",
              "    </tr>\n",
              "  </thead>\n",
              "  <tbody>\n",
              "    <tr>\n",
              "      <th>2015-01-01</th>\n",
              "      <td>449.239990</td>\n",
              "      <td>339.220001</td>\n",
              "      <td>12293830</td>\n",
              "    </tr>\n",
              "    <tr>\n",
              "      <th>2015-02-01</th>\n",
              "      <td>439.885010</td>\n",
              "      <td>396.500000</td>\n",
              "      <td>5212560</td>\n",
              "    </tr>\n",
              "    <tr>\n",
              "      <th>2015-03-01</th>\n",
              "      <td>447.700012</td>\n",
              "      <td>390.114990</td>\n",
              "      <td>5849590</td>\n",
              "    </tr>\n",
              "    <tr>\n",
              "      <th>2015-04-01</th>\n",
              "      <td>469.899994</td>\n",
              "      <td>391.350006</td>\n",
              "      <td>6898600</td>\n",
              "    </tr>\n",
              "    <tr>\n",
              "      <th>2015-05-01</th>\n",
              "      <td>460.000000</td>\n",
              "      <td>391.959991</td>\n",
              "      <td>7366890</td>\n",
              "    </tr>\n",
              "  </tbody>\n",
              "</table>\n",
              "</div>"
            ],
            "text/plain": [
              "                  High         Low    Volume\n",
              "Date                                        \n",
              "2015-01-01  449.239990  339.220001  12293830\n",
              "2015-02-01  439.885010  396.500000   5212560\n",
              "2015-03-01  447.700012  390.114990   5849590\n",
              "2015-04-01  469.899994  391.350006   6898600\n",
              "2015-05-01  460.000000  391.959991   7366890"
            ]
          },
          "metadata": {
            "tags": []
          },
          "execution_count": 232
        }
      ]
    },
    {
      "cell_type": "markdown",
      "metadata": {
        "id": "9dAziIWXYpSE",
        "colab_type": "text"
      },
      "source": [
        "OLS regression"
      ]
    },
    {
      "cell_type": "code",
      "metadata": {
        "id": "R8W18H6_o_F1",
        "colab_type": "code",
        "colab": {
          "base_uri": "https://localhost:8080/",
          "height": 487
        },
        "outputId": "957b9294-ed7c-4bc0-9cf0-b03f96272df3"
      },
      "source": [
        "model = sm.OLS(y, X)\n",
        "results = model.fit()\n",
        "print(results.summary())\n"
      ],
      "execution_count": null,
      "outputs": [
        {
          "output_type": "stream",
          "text": [
            "                                 OLS Regression Results                                \n",
            "=======================================================================================\n",
            "Dep. Variable:                   Open   R-squared (uncentered):                   0.997\n",
            "Model:                            OLS   Adj. R-squared (uncentered):              0.997\n",
            "Method:                 Least Squares   F-statistic:                              5881.\n",
            "Date:                Fri, 18 Sep 2020   Prob (F-statistic):                    5.74e-71\n",
            "Time:                        13:23:59   Log-Likelihood:                         -367.87\n",
            "No. Observations:                  60   AIC:                                      741.7\n",
            "Df Residuals:                      57   BIC:                                      748.0\n",
            "Df Model:                           3                                                  \n",
            "Covariance Type:            nonrobust                                                  \n",
            "==============================================================================\n",
            "                 coef    std err          t      P>|t|      [0.025      0.975]\n",
            "------------------------------------------------------------------------------\n",
            "High           0.0011      0.012      0.093      0.926      -0.022       0.025\n",
            "Low            1.0082      0.019     54.403      0.000       0.971       1.045\n",
            "Volume      3.941e-06   8.44e-07      4.670      0.000    2.25e-06    5.63e-06\n",
            "==============================================================================\n",
            "Omnibus:                       63.252   Durbin-Watson:                   2.128\n",
            "Prob(Omnibus):                  0.000   Jarque-Bera (JB):              426.888\n",
            "Skew:                           2.954   Prob(JB):                     2.01e-93\n",
            "Kurtosis:                      14.655   Cond. No.                     4.24e+04\n",
            "==============================================================================\n",
            "\n",
            "Warnings:\n",
            "[1] Standard Errors assume that the covariance matrix of the errors is correctly specified.\n",
            "[2] The condition number is large, 4.24e+04. This might indicate that there are\n",
            "strong multicollinearity or other numerical problems.\n"
          ],
          "name": "stdout"
        }
      ]
    },
    {
      "cell_type": "code",
      "metadata": {
        "id": "g2Z0yCnlQnYX",
        "colab_type": "code",
        "colab": {}
      },
      "source": [
        "#Building a model by dropping High value."
      ],
      "execution_count": null,
      "outputs": []
    },
    {
      "cell_type": "code",
      "metadata": {
        "id": "N9MqZXp9Q0PB",
        "colab_type": "code",
        "colab": {}
      },
      "source": [
        "X=stock_price.drop(['Open','High'],1)\n",
        "y=stock_price['Open']"
      ],
      "execution_count": null,
      "outputs": []
    },
    {
      "cell_type": "code",
      "metadata": {
        "id": "1mP6kGGgR5vJ",
        "colab_type": "code",
        "colab": {}
      },
      "source": [
        "X_train=X[0:48]\n",
        "X_test=X[48:60]\n",
        "y_train=y[0:48]\n",
        "y_test=y[48:60]"
      ],
      "execution_count": null,
      "outputs": []
    },
    {
      "cell_type": "code",
      "metadata": {
        "id": "_IDzan2bR52U",
        "colab_type": "code",
        "colab": {
          "base_uri": "https://localhost:8080/",
          "height": 34
        },
        "outputId": "4dc8540a-285f-4929-c0bd-0ae8aaa1704b"
      },
      "source": [
        "lr.fit(X_train,y_train)\n",
        "lr_predict=lr.predict(X_test)\n",
        "np.sqrt(mean_squared_error(lr_predict,y_test))"
      ],
      "execution_count": null,
      "outputs": [
        {
          "output_type": "execute_result",
          "data": {
            "text/plain": [
              "146.7946166926713"
            ]
          },
          "metadata": {
            "tags": []
          },
          "execution_count": 241
        }
      ]
    },
    {
      "cell_type": "code",
      "metadata": {
        "id": "XckdlebqR564",
        "colab_type": "code",
        "colab": {
          "base_uri": "https://localhost:8080/",
          "height": 34
        },
        "outputId": "d21aa017-165e-45dc-f780-0a9c4c6090c4"
      },
      "source": [
        "np.mean(lr_predict)"
      ],
      "execution_count": null,
      "outputs": [
        {
          "output_type": "execute_result",
          "data": {
            "text/plain": [
              "3325.289488999834"
            ]
          },
          "metadata": {
            "tags": []
          },
          "execution_count": 242
        }
      ]
    },
    {
      "cell_type": "code",
      "metadata": {
        "id": "USqTSThlQ0Np",
        "colab_type": "code",
        "colab": {
          "base_uri": "https://localhost:8080/",
          "height": 34
        },
        "outputId": "799722e8-1ae5-4cf8-a475-98eadc418ad9"
      },
      "source": [
        "np.sqrt(mean_squared_error(lr_predict,y_test))/np.mean(test)\n"
      ],
      "execution_count": null,
      "outputs": [
        {
          "output_type": "execute_result",
          "data": {
            "text/plain": [
              "1.1535922726339591"
            ]
          },
          "metadata": {
            "tags": []
          },
          "execution_count": 243
        }
      ]
    },
    {
      "cell_type": "markdown",
      "metadata": {
        "id": "oPXHCL2VZOno",
        "colab_type": "text"
      },
      "source": [
        "OLS regression"
      ]
    },
    {
      "cell_type": "code",
      "metadata": {
        "id": "mr9BL0lCSxlo",
        "colab_type": "code",
        "colab": {
          "base_uri": "https://localhost:8080/",
          "height": 470
        },
        "outputId": "fdc80246-0759-4a03-df82-b74a615ed1c5"
      },
      "source": [
        "model = sm.OLS(y, X)\n",
        "results = model.fit()\n",
        "print(results.summary())"
      ],
      "execution_count": null,
      "outputs": [
        {
          "output_type": "stream",
          "text": [
            "                                 OLS Regression Results                                \n",
            "=======================================================================================\n",
            "Dep. Variable:                   Open   R-squared (uncentered):                   0.997\n",
            "Model:                            OLS   Adj. R-squared (uncentered):              0.997\n",
            "Method:                 Least Squares   F-statistic:                              8975.\n",
            "Date:                Fri, 18 Sep 2020   Prob (F-statistic):                    5.37e-73\n",
            "Time:                        13:26:30   Log-Likelihood:                         -367.87\n",
            "No. Observations:                  60   AIC:                                      739.7\n",
            "Df Residuals:                      58   BIC:                                      743.9\n",
            "Df Model:                           2                                                  \n",
            "Covariance Type:            nonrobust                                                  \n",
            "==============================================================================\n",
            "                 coef    std err          t      P>|t|      [0.025      0.975]\n",
            "------------------------------------------------------------------------------\n",
            "Low            1.0094      0.014     73.575      0.000       0.982       1.037\n",
            "Volume      3.952e-06   8.27e-07      4.779      0.000     2.3e-06    5.61e-06\n",
            "==============================================================================\n",
            "Omnibus:                       63.066   Durbin-Watson:                   2.132\n",
            "Prob(Omnibus):                  0.000   Jarque-Bera (JB):              423.953\n",
            "Skew:                           2.944   Prob(JB):                     8.70e-93\n",
            "Kurtosis:                      14.615   Cond. No.                     2.87e+04\n",
            "==============================================================================\n",
            "\n",
            "Warnings:\n",
            "[1] Standard Errors assume that the covariance matrix of the errors is correctly specified.\n",
            "[2] The condition number is large, 2.87e+04. This might indicate that there are\n",
            "strong multicollinearity or other numerical problems.\n"
          ],
          "name": "stdout"
        }
      ]
    },
    {
      "cell_type": "markdown",
      "metadata": {
        "id": "rRZTmPNaZVVT",
        "colab_type": "text"
      },
      "source": [
        "Heteroskadiscity test\n"
      ]
    },
    {
      "cell_type": "code",
      "metadata": {
        "id": "xC3upBSAUWNo",
        "colab_type": "code",
        "colab": {
          "base_uri": "https://localhost:8080/",
          "height": 50
        },
        "outputId": "46ca5f0c-5253-4ea5-ba6d-534b926cfe87"
      },
      "source": [
        "#testing for heteroskadiscity \n",
        "\n",
        "print('Brusche pagan lm test statistic :',dg.het_breuschpagan(results.resid,exog_het=X)[0])\n",
        "print('Brusche pagan lm test p value :',dg.het_breuschpagan(results.resid,exog_het=X)[1])\n",
        "\n"
      ],
      "execution_count": null,
      "outputs": [
        {
          "output_type": "stream",
          "text": [
            "Brusche pagan lm test statistic : 11.885960898097201\n",
            "Brusche pagan lm test p value : 0.0005655863919560253\n"
          ],
          "name": "stdout"
        }
      ]
    },
    {
      "cell_type": "code",
      "metadata": {
        "id": "xpHrTBdoXjcV",
        "colab_type": "code",
        "colab": {}
      },
      "source": [
        "#it is heteroskadistic in nature"
      ],
      "execution_count": null,
      "outputs": []
    },
    {
      "cell_type": "markdown",
      "metadata": {
        "id": "OeJJZoZxZcDT",
        "colab_type": "text"
      },
      "source": [
        "*Autocorrelation* Test"
      ]
    },
    {
      "cell_type": "code",
      "metadata": {
        "id": "z7JXeiuSY993",
        "colab_type": "code",
        "colab": {
          "base_uri": "https://localhost:8080/",
          "height": 34
        },
        "outputId": "fcdace9a-8eaa-4695-8bdd-bce41b69c71e"
      },
      "source": [
        "#checking for autocorrelation using Durbin Watson\n",
        "\n",
        "db=durbin_watson(results.resid) \n",
        "db"
      ],
      "execution_count": null,
      "outputs": [
        {
          "output_type": "execute_result",
          "data": {
            "text/plain": [
              "2.132143414251521"
            ]
          },
          "metadata": {
            "tags": []
          },
          "execution_count": 81
        }
      ]
    },
    {
      "cell_type": "markdown",
      "metadata": {
        "id": "QBpNxl5tCmVj",
        "colab_type": "text"
      },
      "source": [
        "Random Forest Regressor\n"
      ]
    },
    {
      "cell_type": "markdown",
      "metadata": {
        "id": "P57zdw3KZ53l",
        "colab_type": "text"
      },
      "source": [
        "This is the base model of Random Forest"
      ]
    },
    {
      "cell_type": "code",
      "metadata": {
        "id": "UrEFA-7-an2s",
        "colab_type": "code",
        "colab": {}
      },
      "source": [
        "X1=stock_price_copy.drop('Open',1)\n",
        "y1=stock_price_copy['Open']"
      ],
      "execution_count": null,
      "outputs": []
    },
    {
      "cell_type": "code",
      "metadata": {
        "id": "ufYzRDRzapKC",
        "colab_type": "code",
        "colab": {}
      },
      "source": [
        "X1_train=X1[0:48]\n",
        "X1_test=X1[48:60]\n",
        "y1_train=y1[0:48]\n",
        "y1_test=y1[48:60]"
      ],
      "execution_count": null,
      "outputs": []
    },
    {
      "cell_type": "code",
      "metadata": {
        "id": "dvmTK1Owxipq",
        "colab_type": "code",
        "colab": {}
      },
      "source": [
        "rf=RandomForestRegressor()\n",
        "rf.fit(X1_train,y1_train)\n",
        "rf_pred1=rf.predict(X1_test)\n"
      ],
      "execution_count": null,
      "outputs": []
    },
    {
      "cell_type": "code",
      "metadata": {
        "id": "3Begsqf02mGq",
        "colab_type": "code",
        "colab": {
          "base_uri": "https://localhost:8080/",
          "height": 34
        },
        "outputId": "1ee81552-0941-4150-b416-f0f79080df34"
      },
      "source": [
        "np.sqrt(mean_squared_error(y1_test,rf_pred1))"
      ],
      "execution_count": null,
      "outputs": [
        {
          "output_type": "execute_result",
          "data": {
            "text/plain": [
              "879.6120699309874"
            ]
          },
          "metadata": {
            "tags": []
          },
          "execution_count": 85
        }
      ]
    },
    {
      "cell_type": "code",
      "metadata": {
        "id": "xwZ5rgDIeA_W",
        "colab_type": "code",
        "colab": {
          "base_uri": "https://localhost:8080/",
          "height": 34
        },
        "outputId": "fd47bf3d-6aa7-4213-92cc-5cc4293b1470"
      },
      "source": [
        "np.sqrt(mean_squared_error(y_test,rf_pred1))/np.mean(y_test)#Model has 74% accuracy"
      ],
      "execution_count": null,
      "outputs": [
        {
          "output_type": "execute_result",
          "data": {
            "text/plain": [
              "0.2645075287608042"
            ]
          },
          "metadata": {
            "tags": []
          },
          "execution_count": 86
        }
      ]
    },
    {
      "cell_type": "markdown",
      "metadata": {
        "id": "nYi32WcYZjgb",
        "colab_type": "text"
      },
      "source": [
        "Random Forest Regressor with Grid Search"
      ]
    },
    {
      "cell_type": "code",
      "metadata": {
        "id": "mwVDlhz2ZiPM",
        "colab_type": "code",
        "colab": {
          "base_uri": "https://localhost:8080/",
          "height": 134
        },
        "outputId": "87c0af71-9987-486c-a842-cbb9ff838110"
      },
      "source": [
        "rf.get_params"
      ],
      "execution_count": null,
      "outputs": [
        {
          "output_type": "execute_result",
          "data": {
            "text/plain": [
              "<bound method BaseEstimator.get_params of RandomForestRegressor(bootstrap=True, ccp_alpha=0.0, criterion='mse',\n",
              "                      max_depth=None, max_features='auto', max_leaf_nodes=None,\n",
              "                      max_samples=None, min_impurity_decrease=0.0,\n",
              "                      min_impurity_split=None, min_samples_leaf=1,\n",
              "                      min_samples_split=2, min_weight_fraction_leaf=0.0,\n",
              "                      n_estimators=100, n_jobs=None, oob_score=False,\n",
              "                      random_state=None, verbose=0, warm_start=False)>"
            ]
          },
          "metadata": {
            "tags": []
          },
          "execution_count": 245
        }
      ]
    },
    {
      "cell_type": "code",
      "metadata": {
        "id": "Bhi7PYp0mdv3",
        "colab_type": "code",
        "colab": {}
      },
      "source": [
        "def mse(y_act, y_pred):\n",
        "  return np.sqrt(mean_squared_error(y_act,y_pred))\n",
        "\n",
        "rmse = make_scorer(mse)"
      ],
      "execution_count": null,
      "outputs": []
    },
    {
      "cell_type": "code",
      "metadata": {
        "id": "4xGL9B6xaI7j",
        "colab_type": "code",
        "colab": {}
      },
      "source": [
        "params = {  \"n_estimators\": [10,20,30,100,200,300,350,400],\"max_features\": [\"auto\", \"sqrt\", \"log2\"],\"min_samples_split\" : [2,4,8],\"bootstrap\": [True, False],'max_depth':[1,3,5,7,9]}\n"
      ],
      "execution_count": null,
      "outputs": []
    },
    {
      "cell_type": "code",
      "metadata": {
        "id": "1YWmthUuaJB0",
        "colab_type": "code",
        "colab": {}
      },
      "source": [
        "best_rf=GridSearchCV(rf,param_grid=params,n_jobs=-1,cv=3)"
      ],
      "execution_count": null,
      "outputs": []
    },
    {
      "cell_type": "code",
      "metadata": {
        "id": "65F2b8cem6kK",
        "colab_type": "code",
        "colab": {
          "base_uri": "https://localhost:8080/",
          "height": 420
        },
        "outputId": "e098cc0b-f345-4716-823a-9526c7f69606"
      },
      "source": [
        "%%time\n",
        "best_rf.fit(X1_train,y1_train)"
      ],
      "execution_count": null,
      "outputs": [
        {
          "output_type": "stream",
          "text": [
            "CPU times: user 11.4 s, sys: 167 ms, total: 11.5 s\n",
            "Wall time: 5min 40s\n"
          ],
          "name": "stdout"
        },
        {
          "output_type": "execute_result",
          "data": {
            "text/plain": [
              "GridSearchCV(cv=3, error_score=nan,\n",
              "             estimator=RandomForestRegressor(bootstrap=True, ccp_alpha=0.0,\n",
              "                                             criterion='mse', max_depth=None,\n",
              "                                             max_features='auto',\n",
              "                                             max_leaf_nodes=None,\n",
              "                                             max_samples=None,\n",
              "                                             min_impurity_decrease=0.0,\n",
              "                                             min_impurity_split=None,\n",
              "                                             min_samples_leaf=1,\n",
              "                                             min_samples_split=2,\n",
              "                                             min_weight_fraction_leaf=0.0,\n",
              "                                             n_estimators=100, n_jobs=None,\n",
              "                                             oob_score=False, random_state=None,\n",
              "                                             verbose=0, warm_start=False),\n",
              "             iid='deprecated', n_jobs=-1,\n",
              "             param_grid={'bootstrap': [True, False],\n",
              "                         'max_depth': [1, 3, 5, 7, 9],\n",
              "                         'max_features': ['auto', 'sqrt', 'log2'],\n",
              "                         'min_samples_split': [2, 4, 8],\n",
              "                         'n_estimators': [10, 20, 30, 100, 200, 300, 350, 400]},\n",
              "             pre_dispatch='2*n_jobs', refit=True, return_train_score=False,\n",
              "             scoring=None, verbose=0)"
            ]
          },
          "metadata": {
            "tags": []
          },
          "execution_count": 99
        }
      ]
    },
    {
      "cell_type": "code",
      "metadata": {
        "id": "3bgbgg_Fvfas",
        "colab_type": "code",
        "colab": {
          "base_uri": "https://localhost:8080/",
          "height": 101
        },
        "outputId": "4d47e223-4c6a-42cf-cbab-e55fda7a6c5c"
      },
      "source": [
        "best_rf.best_params_"
      ],
      "execution_count": null,
      "outputs": [
        {
          "output_type": "execute_result",
          "data": {
            "text/plain": [
              "{'bootstrap': False,\n",
              " 'max_depth': 7,\n",
              " 'max_features': 'auto',\n",
              " 'min_samples_split': 2,\n",
              " 'n_estimators': 10}"
            ]
          },
          "metadata": {
            "tags": []
          },
          "execution_count": 100
        }
      ]
    },
    {
      "cell_type": "code",
      "metadata": {
        "id": "x-cpFWeCkQIO",
        "colab_type": "code",
        "colab": {}
      },
      "source": [
        "best_rf_predict=best_rf.predict(X1_test)"
      ],
      "execution_count": null,
      "outputs": []
    },
    {
      "cell_type": "code",
      "metadata": {
        "id": "JIrKjDuDknyQ",
        "colab_type": "code",
        "colab": {
          "base_uri": "https://localhost:8080/",
          "height": 34
        },
        "outputId": "0b10b713-0c71-44ab-af7c-1b226e86a733"
      },
      "source": [
        "np.sqrt(mean_squared_error(y1_test,best_rf_predict))"
      ],
      "execution_count": null,
      "outputs": [
        {
          "output_type": "execute_result",
          "data": {
            "text/plain": [
              "801.5004181985593"
            ]
          },
          "metadata": {
            "tags": []
          },
          "execution_count": 102
        }
      ]
    },
    {
      "cell_type": "code",
      "metadata": {
        "id": "_IhWdiKNvsc0",
        "colab_type": "code",
        "colab": {
          "base_uri": "https://localhost:8080/",
          "height": 34
        },
        "outputId": "c77652a9-b47e-4b9a-ccbb-dbb9435c7918"
      },
      "source": [
        "np.mean(y1_test)"
      ],
      "execution_count": null,
      "outputs": [
        {
          "output_type": "execute_result",
          "data": {
            "text/plain": [
              "3325.470825166667"
            ]
          },
          "metadata": {
            "tags": []
          },
          "execution_count": 103
        }
      ]
    },
    {
      "cell_type": "code",
      "metadata": {
        "id": "V_4eVCV4vxf8",
        "colab_type": "code",
        "colab": {
          "base_uri": "https://localhost:8080/",
          "height": 34
        },
        "outputId": "ed1049da-4c95-4086-b159-bccbc1b5b107"
      },
      "source": [
        "error=np.sqrt(mean_squared_error(y1_test,best_rf_predict))/np.mean(y1_test)\n",
        "error"
      ],
      "execution_count": null,
      "outputs": [
        {
          "output_type": "execute_result",
          "data": {
            "text/plain": [
              "0.24101862874060528"
            ]
          },
          "metadata": {
            "tags": []
          },
          "execution_count": 104
        }
      ]
    },
    {
      "cell_type": "code",
      "metadata": {
        "id": "LQ-OlGWZZ5yC",
        "colab_type": "code",
        "colab": {}
      },
      "source": [
        "#This indicates that model with hyperparameter tuning does better than base model"
      ],
      "execution_count": null,
      "outputs": []
    },
    {
      "cell_type": "markdown",
      "metadata": {
        "id": "y10DfnoeD-nx",
        "colab_type": "text"
      },
      "source": [
        "SVM"
      ]
    },
    {
      "cell_type": "markdown",
      "metadata": {
        "id": "jPBXZnjMazCc",
        "colab_type": "text"
      },
      "source": [
        "SVM(linear model)\n"
      ]
    },
    {
      "cell_type": "code",
      "metadata": {
        "id": "SF3Yzg0gKkV9",
        "colab_type": "code",
        "colab": {}
      },
      "source": [
        "svc=SVR(kernel='linear')"
      ],
      "execution_count": null,
      "outputs": []
    },
    {
      "cell_type": "code",
      "metadata": {
        "id": "KQsdaoBqKoaR",
        "colab_type": "code",
        "colab": {}
      },
      "source": [
        "from sklearn.preprocessing import StandardScaler"
      ],
      "execution_count": null,
      "outputs": []
    },
    {
      "cell_type": "code",
      "metadata": {
        "id": "7-qEhWwfKrcS",
        "colab_type": "code",
        "colab": {}
      },
      "source": [
        "sc=StandardScaler()"
      ],
      "execution_count": null,
      "outputs": []
    },
    {
      "cell_type": "code",
      "metadata": {
        "id": "nr9K5zPocESN",
        "colab_type": "code",
        "colab": {}
      },
      "source": [
        "#Scaling The data,so the svc can converge fast."
      ],
      "execution_count": null,
      "outputs": []
    },
    {
      "cell_type": "code",
      "metadata": {
        "id": "4BpcUTbtKroh",
        "colab_type": "code",
        "colab": {}
      },
      "source": [
        "X_scaled=sc.fit_transform(X)\n",
        "X_scaled=pd.DataFrame(X_scaled,index=X.index)\n",
        "X2_train=X_scaled[0:48]\n",
        "X2_test=X_scaled[48:60]\n"
      ],
      "execution_count": null,
      "outputs": []
    },
    {
      "cell_type": "code",
      "metadata": {
        "id": "y6ocFWHTUNp0",
        "colab_type": "code",
        "colab": {
          "base_uri": "https://localhost:8080/",
          "height": 50
        },
        "outputId": "1015f551-e510-4024-cf7e-4c47e4a641ed"
      },
      "source": [
        "svc.fit(X2_train,y1_train)"
      ],
      "execution_count": null,
      "outputs": [
        {
          "output_type": "execute_result",
          "data": {
            "text/plain": [
              "SVR(C=1.0, cache_size=200, coef0=0.0, degree=3, epsilon=0.1, gamma='scale',\n",
              "    kernel='linear', max_iter=-1, shrinking=True, tol=0.001, verbose=False)"
            ]
          },
          "metadata": {
            "tags": []
          },
          "execution_count": 109
        }
      ]
    },
    {
      "cell_type": "code",
      "metadata": {
        "id": "VGYjZT-YUVqx",
        "colab_type": "code",
        "colab": {}
      },
      "source": [
        "svc_pred=svc.predict(X2_test)"
      ],
      "execution_count": null,
      "outputs": []
    },
    {
      "cell_type": "code",
      "metadata": {
        "id": "n4MDfzLYUfve",
        "colab_type": "code",
        "colab": {}
      },
      "source": [
        "rmse_svr=np.sqrt(mean_squared_error(y1_test,svc_pred))"
      ],
      "execution_count": null,
      "outputs": []
    },
    {
      "cell_type": "code",
      "metadata": {
        "id": "NvpFlODCUuXO",
        "colab_type": "code",
        "colab": {
          "base_uri": "https://localhost:8080/",
          "height": 34
        },
        "outputId": "6e8824ac-e983-458a-942f-bba9bc7133a8"
      },
      "source": [
        "rmse_svr\n",
        "#If we dont scale dependent and independent variables both rmse will be very high."
      ],
      "execution_count": null,
      "outputs": [
        {
          "output_type": "execute_result",
          "data": {
            "text/plain": [
              "2258.1399273892353"
            ]
          },
          "metadata": {
            "tags": []
          },
          "execution_count": 113
        }
      ]
    },
    {
      "cell_type": "code",
      "metadata": {
        "id": "CKzNkD-rUwRr",
        "colab_type": "code",
        "colab": {}
      },
      "source": [
        "y_new=stock_price_copy['Open'].values.reshape(-1,1)"
      ],
      "execution_count": null,
      "outputs": []
    },
    {
      "cell_type": "markdown",
      "metadata": {
        "id": "qYGKwzFDdEP6",
        "colab_type": "text"
      },
      "source": [
        "Scaling both *Dependent and independent variables*"
      ]
    },
    {
      "cell_type": "code",
      "metadata": {
        "id": "L9WiBNJ5XAn9",
        "colab_type": "code",
        "colab": {}
      },
      "source": [
        "X_scaled=sc.fit_transform(X)\n",
        "X_scaled=pd.DataFrame(X_scaled,index=X.index)\n",
        "y_scaled=sc.fit_transform(y_new)\n",
        "y_scaled=pd.DataFrame(y_scaled,index=y.index)\n",
        "X2_train=X_scaled[0:48]\n",
        "X2_test=X_scaled[48:60]\n",
        "y2_train=y_scaled[0:48]\n",
        "y2_test=y_scaled[48:]"
      ],
      "execution_count": null,
      "outputs": []
    },
    {
      "cell_type": "code",
      "metadata": {
        "id": "PE28BM9wYV6o",
        "colab_type": "code",
        "colab": {
          "base_uri": "https://localhost:8080/",
          "height": 50
        },
        "outputId": "3bfc41cd-adf6-423c-dd35-88ad1a84f9d0"
      },
      "source": [
        "svc.fit(X2_train,y2_train)"
      ],
      "execution_count": null,
      "outputs": [
        {
          "output_type": "execute_result",
          "data": {
            "text/plain": [
              "SVR(C=1.0, cache_size=200, coef0=0.0, degree=3, epsilon=0.1, gamma='scale',\n",
              "    kernel='linear', max_iter=-1, shrinking=True, tol=0.001, verbose=False)"
            ]
          },
          "metadata": {
            "tags": []
          },
          "execution_count": 125
        }
      ]
    },
    {
      "cell_type": "code",
      "metadata": {
        "id": "Y4soL1V0YYFA",
        "colab_type": "code",
        "colab": {}
      },
      "source": [
        "svc_pred_new=svc.predict(X2_test)"
      ],
      "execution_count": null,
      "outputs": []
    },
    {
      "cell_type": "code",
      "metadata": {
        "id": "wSmMsGSKYu8C",
        "colab_type": "code",
        "colab": {
          "base_uri": "https://localhost:8080/",
          "height": 34
        },
        "outputId": "acf45512-122c-4f2a-910f-ac918ace7bbd"
      },
      "source": [
        "rmse_svr_new=np.sqrt(mean_squared_error(y2_test,svc_pred_new))\n",
        "rmse_svr_new"
      ],
      "execution_count": null,
      "outputs": [
        {
          "output_type": "execute_result",
          "data": {
            "text/plain": [
              "0.1481969976388901"
            ]
          },
          "metadata": {
            "tags": []
          },
          "execution_count": 128
        }
      ]
    },
    {
      "cell_type": "markdown",
      "metadata": {
        "id": "At4babPzdXWb",
        "colab_type": "text"
      },
      "source": [
        "Reverse scaling\n"
      ]
    },
    {
      "cell_type": "code",
      "metadata": {
        "id": "stj2xsDhY_ub",
        "colab_type": "code",
        "colab": {
          "base_uri": "https://localhost:8080/",
          "height": 67
        },
        "outputId": "41dd0c63-698e-497c-b267-04f3d383121b"
      },
      "source": [
        "y_pred_svc = sc.inverse_transform(svc_pred_new)\n",
        "y_pred_svc"
      ],
      "execution_count": null,
      "outputs": [
        {
          "output_type": "execute_result",
          "data": {
            "text/plain": [
              "array([2473.14758456, 2593.63221108, 2730.88250096, 3044.67326268,\n",
              "       2994.82301684, 3494.34992605, 3223.57096659, 3149.70007449,\n",
              "       3348.42047496, 3950.11636786, 4122.67093304, 3978.02332402])"
            ]
          },
          "metadata": {
            "tags": []
          },
          "execution_count": 130
        }
      ]
    },
    {
      "cell_type": "code",
      "metadata": {
        "id": "SfpUQ9ZVomSQ",
        "colab_type": "code",
        "colab": {
          "base_uri": "https://localhost:8080/",
          "height": 34
        },
        "outputId": "5bc0baa1-680f-4ec1-a98b-e2d4a9d2415b"
      },
      "source": [
        "rmse_svr_new_final=np.sqrt(mean_squared_error(y1_test,y_pred_svc))\n",
        "rmse_svr_new_final"
      ],
      "execution_count": null,
      "outputs": [
        {
          "output_type": "execute_result",
          "data": {
            "text/plain": [
              "159.24834891863355"
            ]
          },
          "metadata": {
            "tags": []
          },
          "execution_count": 134
        }
      ]
    },
    {
      "cell_type": "code",
      "metadata": {
        "id": "ebOWmUUNo12_",
        "colab_type": "code",
        "colab": {
          "base_uri": "https://localhost:8080/",
          "height": 34
        },
        "outputId": "177feee7-703e-4d7a-ac41-cb441d2b2117"
      },
      "source": [
        "rmse_svr_new_final/np.mean(y1_test)"
      ],
      "execution_count": null,
      "outputs": [
        {
          "output_type": "execute_result",
          "data": {
            "text/plain": [
              "0.04788745933762696"
            ]
          },
          "metadata": {
            "tags": []
          },
          "execution_count": 136
        }
      ]
    },
    {
      "cell_type": "markdown",
      "metadata": {
        "id": "nKNVIbR7eUV5",
        "colab_type": "text"
      },
      "source": [
        "SVR with kernel 'RBF'"
      ]
    },
    {
      "cell_type": "code",
      "metadata": {
        "id": "PIHu3d5_pX4u",
        "colab_type": "code",
        "colab": {}
      },
      "source": [
        "svc1=SVR(kernel='rbf')"
      ],
      "execution_count": null,
      "outputs": []
    },
    {
      "cell_type": "code",
      "metadata": {
        "id": "BFTZruCG_hR5",
        "colab_type": "code",
        "colab": {
          "base_uri": "https://localhost:8080/",
          "height": 50
        },
        "outputId": "012bc426-622f-4729-f9fb-c61da97378db"
      },
      "source": [
        "svc1.fit(X2_train,y2_train)"
      ],
      "execution_count": null,
      "outputs": [
        {
          "output_type": "execute_result",
          "data": {
            "text/plain": [
              "SVR(C=1.0, cache_size=200, coef0=0.0, degree=3, epsilon=0.1, gamma='scale',\n",
              "    kernel='rbf', max_iter=-1, shrinking=True, tol=0.001, verbose=False)"
            ]
          },
          "metadata": {
            "tags": []
          },
          "execution_count": 156
        }
      ]
    },
    {
      "cell_type": "code",
      "metadata": {
        "id": "SuEOKHGj_wgA",
        "colab_type": "code",
        "colab": {}
      },
      "source": [
        "svc_pred_rbf=svc1.predict(X2_test)"
      ],
      "execution_count": null,
      "outputs": []
    },
    {
      "cell_type": "code",
      "metadata": {
        "id": "jBBexytd_94H",
        "colab_type": "code",
        "colab": {
          "base_uri": "https://localhost:8080/",
          "height": 34
        },
        "outputId": "678a600c-8dac-4cc8-e27e-37cecbe09805"
      },
      "source": [
        "rmse_svr_rbf=np.sqrt(mean_squared_error(y2_test,svc_pred_rbf))\n",
        "rmse_svr_rbf"
      ],
      "execution_count": null,
      "outputs": [
        {
          "output_type": "execute_result",
          "data": {
            "text/plain": [
              "1.216401075157899"
            ]
          },
          "metadata": {
            "tags": []
          },
          "execution_count": 158
        }
      ]
    },
    {
      "cell_type": "code",
      "metadata": {
        "id": "6p-zD7TcBo7i",
        "colab_type": "code",
        "colab": {
          "base_uri": "https://localhost:8080/",
          "height": 67
        },
        "outputId": "41055737-d5cb-467a-baf8-9cccc891a06a"
      },
      "source": [
        "y_pred_rbf = sc.inverse_transform(svc_pred_rbf)\n",
        "y_pred_rbf"
      ],
      "execution_count": null,
      "outputs": [
        {
          "output_type": "execute_result",
          "data": {
            "text/plain": [
              "array([2447.08423844, 2538.30189114, 2572.92601156, 2451.95446451,\n",
              "       2431.25148134, 2230.53649268, 2018.78552502, 2352.86459622,\n",
              "       2282.52657446, 1958.07952065, 1889.48818736, 1971.72590866])"
            ]
          },
          "metadata": {
            "tags": []
          },
          "execution_count": 159
        }
      ]
    },
    {
      "cell_type": "code",
      "metadata": {
        "id": "UJ6H-p44ByZC",
        "colab_type": "code",
        "colab": {
          "base_uri": "https://localhost:8080/",
          "height": 34
        },
        "outputId": "b4e65d1f-2ed8-49ac-a4ed-8a1460dad182"
      },
      "source": [
        "rmse_svr_rbf_final=np.sqrt(mean_squared_error(y1_test,y_pred_rbf))\n",
        "rmse_svr_rbf_final"
      ],
      "execution_count": null,
      "outputs": [
        {
          "output_type": "execute_result",
          "data": {
            "text/plain": [
              "1307.110575301645"
            ]
          },
          "metadata": {
            "tags": []
          },
          "execution_count": 160
        }
      ]
    },
    {
      "cell_type": "code",
      "metadata": {
        "id": "Exbq7bcNB_EH",
        "colab_type": "code",
        "colab": {
          "base_uri": "https://localhost:8080/",
          "height": 34
        },
        "outputId": "1433f277-749e-472d-8335-6b41ffe4909f"
      },
      "source": [
        "rmse_svr_rbf_final/np.mean(y1_test)"
      ],
      "execution_count": null,
      "outputs": [
        {
          "output_type": "execute_result",
          "data": {
            "text/plain": [
              "0.39306030454684104"
            ]
          },
          "metadata": {
            "tags": []
          },
          "execution_count": 161
        }
      ]
    },
    {
      "cell_type": "markdown",
      "metadata": {
        "id": "dnhgud_seirY",
        "colab_type": "text"
      },
      "source": [
        "SVR kernel polynomial"
      ]
    },
    {
      "cell_type": "code",
      "metadata": {
        "id": "fHvGVYlSDrMz",
        "colab_type": "code",
        "colab": {
          "base_uri": "https://localhost:8080/",
          "height": 118
        },
        "outputId": "d6d2fff9-395e-47f6-e1b6-9cb8cdfab608"
      },
      "source": [
        "svc2=SVR(kernel='poly')\n",
        "svc2.fit(X2_train,y2_train)\n",
        "svc_poly=svc2.predict(X2_test)\n",
        "rmse_svr_poly=np.sqrt(mean_squared_error(y2_test,svc_poly))\n",
        "print(rmse_svr_poly)\n",
        "y_pred_poly = sc.inverse_transform(svc_poly)\n",
        "print(y_pred_poly)\n",
        "rmse_svr_poly_final=np.sqrt(mean_squared_error(y1_test,y_pred_poly))\n",
        "print(rmse_svr_poly_final)\n",
        "rmse_svr_poly_final/np.mean(y1_test)"
      ],
      "execution_count": null,
      "outputs": [
        {
          "output_type": "stream",
          "text": [
            "4.698155744923511\n",
            "[ 1985.05508948  2352.68592719  2740.57725467  4327.63811181\n",
            "  3404.65937575  7764.43751765  3970.19659393  4134.99314193\n",
            "  5527.82691982 12038.44518904 15489.82046618 13275.44209718]\n",
            "5048.506766410532\n"
          ],
          "name": "stdout"
        },
        {
          "output_type": "execute_result",
          "data": {
            "text/plain": [
              "1.5181329296904924"
            ]
          },
          "metadata": {
            "tags": []
          },
          "execution_count": 165
        }
      ]
    },
    {
      "cell_type": "markdown",
      "metadata": {
        "id": "-1EClnOZfwns",
        "colab_type": "text"
      },
      "source": [
        "***Analysis***"
      ]
    },
    {
      "cell_type": "code",
      "metadata": {
        "id": "A18qoAL9f26p",
        "colab_type": "code",
        "colab": {}
      },
      "source": [
        "#Out of all the models that I have built the best results is given by Linear Regression"
      ],
      "execution_count": null,
      "outputs": []
    }
  ]
}